{
 "cells": [
  {
   "cell_type": "markdown",
   "metadata": {},
   "source": [
    "### Set up your environment"
   ]
  },
  {
   "cell_type": "code",
   "execution_count": null,
   "metadata": {
    "collapsed": false
   },
   "outputs": [],
   "source": [
    "ENV[\"OS_AUTH_URL\"]=\"https://keystone-yeg.cloud.cybera.ca:5000/v2.0\"\n",
    "ENV[\"OS_TENANT_NAME\"]=\"julia_workshop\"\n",
    "ENV[\"OS_PROJECT_NAME\"]=\"julia_workshop\"\n",
    "ENV[\"OS_USERNAME\"]=\"\"\n",
    "ENV[\"OS_PASSWORD\"]=\"\"\n",
    "\n",
    "include(joinpath(\"..\", \"src\", \"lib\", \"Config.jl\"))"
   ]
  },
  {
   "cell_type": "markdown",
   "metadata": {},
   "source": [
    "### Exploring existing datasets\n",
    "\n",
    "This framework is integrated with Swift, so that you can fetch datasets from a shared container. You can also push new datasets or transformations back to the container for your teammates to share.\n",
    "\n",
    "Right now, let's see what's there."
   ]
  },
  {
   "cell_type": "code",
   "execution_count": null,
   "metadata": {
    "collapsed": false,
    "scrolled": true
   },
   "outputs": [],
   "source": [
    "Dataset.list()"
   ]
  },
  {
   "cell_type": "markdown",
   "metadata": {},
   "source": [
    "We'll grab the `:titanic` dataset to start exploring."
   ]
  },
  {
   "cell_type": "code",
   "execution_count": null,
   "metadata": {
    "collapsed": false
   },
   "outputs": [],
   "source": [
    "titanic = Dataset.fetch(:titanic)"
   ]
  },
  {
   "cell_type": "markdown",
   "metadata": {},
   "source": [
    "### Loading modules\n",
    "\n",
    "We're going to grab the `FreqTables` module and our own `Titanic` module. To do that, we use the `using` keyword. This will put any exported functions into the current namespace. If you want to keep from polluting the namespace and don't mind prepending the module name to function calls, you can use `import` instead."
   ]
  },
  {
   "cell_type": "code",
   "execution_count": 4,
   "metadata": {
    "collapsed": false
   },
   "outputs": [],
   "source": [
    "using FreqTables\n",
    "using Titanic"
   ]
  },
  {
   "cell_type": "code",
   "execution_count": null,
   "metadata": {
    "collapsed": false
   },
   "outputs": [],
   "source": [
    "freqtable(titanic[:Survived])"
   ]
  },
  {
   "cell_type": "code",
   "execution_count": null,
   "metadata": {
    "collapsed": false
   },
   "outputs": [],
   "source": [
    "freqtable(titanic, :Sex, :Survived)"
   ]
  },
  {
   "cell_type": "code",
   "execution_count": 7,
   "metadata": {
    "collapsed": true
   },
   "outputs": [],
   "source": [
    "@enum SurvivedType Dead=0 Survived=1\n",
    "titanic[:Survived] = to_enum(SurvivedType, titanic[:Survived])\n",
    "pool!(titanic, [:Sex, :Survived])"
   ]
  },
  {
   "cell_type": "code",
   "execution_count": null,
   "metadata": {
    "collapsed": false
   },
   "outputs": [],
   "source": [
    "levels(titanic[:Survived])"
   ]
  },
  {
   "cell_type": "code",
   "execution_count": null,
   "metadata": {
    "collapsed": false
   },
   "outputs": [],
   "source": [
    "freqtable(titanic, :Sex, :Survived)"
   ]
  },
  {
   "cell_type": "code",
   "execution_count": 33,
   "metadata": {
    "collapsed": false
   },
   "outputs": [
    {
     "data": {
      "text/plain": [
       "Plots.PyPlotBackend()"
      ]
     },
     "execution_count": 33,
     "metadata": {},
     "output_type": "execute_result"
    }
   ],
   "source": [
    "using StatPlots\n",
    "pyplot()"
   ]
  },
  {
   "cell_type": "code",
   "execution_count": null,
   "metadata": {
    "collapsed": false
   },
   "outputs": [],
   "source": [
    "pie([\"Female\", \"Male\"], freqtable(titanic, :Sex))"
   ]
  },
  {
   "cell_type": "code",
   "execution_count": null,
   "metadata": {
    "collapsed": false
   },
   "outputs": [],
   "source": [
    "pie([\"Dead\", \"Survived\"],freqtable(titanic, :Survived))"
   ]
  },
  {
   "cell_type": "code",
   "execution_count": null,
   "metadata": {
    "collapsed": false
   },
   "outputs": [],
   "source": [
    "male = titanic[titanic[:Sex] .== \"male\",:]\n",
    "female = titanic[titanic[:Sex] .== \"female\",:]\n",
    "# or (via framework):\n",
    "male = subset(titanic, :Sex, \"male\")\n",
    "female = subset(titanic, :Sex, \"female\")"
   ]
  },
  {
   "cell_type": "code",
   "execution_count": null,
   "metadata": {
    "collapsed": false
   },
   "outputs": [],
   "source": [
    "layout = grid(1,2)\n",
    "pie([\"Dead\",\"Survived\"],freqtable(male, :Survived),title=\"Survival Portion of Men\",layout=layout)\n",
    "pie!([\"Dead\",\"Survived\"],freqtable(female, :Survived),title=\"Survival Portion of Women\",layout=layout,subplot=2)"
   ]
  },
  {
   "cell_type": "code",
   "execution_count": null,
   "metadata": {
    "collapsed": false
   },
   "outputs": [],
   "source": [
    "titanic_clean = titanic\n",
    "titanic_clean = titanic_clean[~isna(titanic_clean[:Age]),:]\n",
    "titanic_clean = titanic_clean[~isna(titanic_clean[:Sex]),:]\n",
    "titanic_clean = titanic_clean[~isna(titanic_clean[:Survived]),:]"
   ]
  },
  {
   "cell_type": "code",
   "execution_count": null,
   "metadata": {
    "collapsed": false
   },
   "outputs": [],
   "source": [
    "boxplot(titanic_clean, :Sex, :Age, title=\"Age Distribution by Gender\", notch=true)"
   ]
  },
  {
   "cell_type": "code",
   "execution_count": null,
   "metadata": {
    "collapsed": false
   },
   "outputs": [],
   "source": [
    "boxplot(titanic_clean, :Survived, :Age, title=\"Age Distribution By Survival\", notch=true, ylabel=\"Age\")"
   ]
  },
  {
   "cell_type": "code",
   "execution_count": null,
   "metadata": {
    "collapsed": false
   },
   "outputs": [],
   "source": [
    "histogram(titanic_clean[:Age], xlabel=\"Distribution of Age\", ylabel=\"Frequency of Bucket\", title=\"Distribution of Passenger Ages on Titanic\",bins=12)"
   ]
  },
  {
   "cell_type": "code",
   "execution_count": null,
   "metadata": {
    "collapsed": false
   },
   "outputs": [],
   "source": [
    "density(titanic_clean, :Age, groups=:Survived, linecolor=:auto, linewidth=3)"
   ]
  },
  {
   "cell_type": "code",
   "execution_count": null,
   "metadata": {
    "collapsed": false
   },
   "outputs": [],
   "source": [
    "density(titanic_clean, :Age, groups=:Sex, linecolor=:auto, linewidth=3)"
   ]
  },
  {
   "cell_type": "code",
   "execution_count": null,
   "metadata": {
    "collapsed": false
   },
   "outputs": [],
   "source": [
    "@enum ChildType Child=0 Adult=1\n",
    "\n",
    "titanic[:Child] = to_enum(ChildType, map(titanic[:Age]) do x\n",
    "  if isna(x)\n",
    "    NA\n",
    "  elseif x < 13\n",
    "    Child\n",
    "  else\n",
    "    Adult\n",
    "  end\n",
    "end)"
   ]
  },
  {
   "cell_type": "code",
   "execution_count": 30,
   "metadata": {
    "collapsed": false
   },
   "outputs": [
    {
     "data": {
      "text/plain": [
       "remove_na (generic function with 1 method)"
      ]
     },
     "execution_count": 30,
     "metadata": {},
     "output_type": "execute_result"
    }
   ],
   "source": [
    "function remove_na(titanic_df, colnames...)\n",
    "  ret = titanic_df;\n",
    "  for colname in colnames\n",
    "    ret = ret[~isna(ret[colname]),:];\n",
    "  end\n",
    "  ret\n",
    "end"
   ]
  },
  {
   "cell_type": "code",
   "execution_count": null,
   "metadata": {
    "collapsed": false
   },
   "outputs": [],
   "source": [
    "titanic_clean = remove_na(titanic, :Age, :Sex, :Survived, :Child)"
   ]
  },
  {
   "cell_type": "code",
   "execution_count": null,
   "metadata": {
    "collapsed": false,
    "scrolled": true
   },
   "outputs": [],
   "source": [
    "import CustomPlots\n",
    "\n",
    "CustomPlots.facetgridbox(titanic_clean, :Fare, xsplit=:Survived, ysplit=:Sex, boxsplit=:Child)"
   ]
  },
  {
   "cell_type": "code",
   "execution_count": null,
   "metadata": {
    "collapsed": true
   },
   "outputs": [],
   "source": []
  }
 ],
 "metadata": {
  "kernelspec": {
   "display_name": "Julia 0.5.0",
   "language": "julia",
   "name": "julia-0.5"
  },
  "language_info": {
   "file_extension": ".jl",
   "mimetype": "application/julia",
   "name": "julia",
   "version": "0.5.0"
  }
 },
 "nbformat": 4,
 "nbformat_minor": 0
}
