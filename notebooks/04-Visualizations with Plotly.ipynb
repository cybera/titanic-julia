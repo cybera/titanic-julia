{
 "cells": [
  {
   "cell_type": "markdown",
   "metadata": {},
   "source": [
    "## Setting up the environment"
   ]
  },
  {
   "cell_type": "code",
   "execution_count": null,
   "metadata": {
    "collapsed": false
   },
   "outputs": [],
   "source": [
    "ENV[\"OS_AUTH_URL\"]=\"https://keystone-yeg.cloud.cybera.ca:5000/v2.0\"\n",
    "ENV[\"OS_TENANT_NAME\"]=\"julia_workshop\"\n",
    "ENV[\"OS_PROJECT_NAME\"]=\"julia_workshop\"\n",
    "ENV[\"OS_USERNAME\"]=\"\"\n",
    "ENV[\"OS_PASSWORD\"]=\"\"\n",
    "\n",
    "include(joinpath(\"..\", \"src\", \"lib\", \"Config.jl\"))"
   ]
  },
  {
   "cell_type": "markdown",
   "metadata": {},
   "source": [
    "## Loading Modules"
   ]
  },
  {
   "cell_type": "code",
   "execution_count": null,
   "metadata": {
    "collapsed": false
   },
   "outputs": [],
   "source": [
    "using FreqTables\n",
    "using PlotlyJS\n",
    "using MultivariateStats"
   ]
  },
  {
   "cell_type": "markdown",
   "metadata": {},
   "source": [
    "## Fetching the dataset"
   ]
  },
  {
   "cell_type": "code",
   "execution_count": null,
   "metadata": {
    "collapsed": false
   },
   "outputs": [],
   "source": [
    "titanic_clean = Dataset.fetch(:titanic_clean)"
   ]
  },
  {
   "cell_type": "markdown",
   "metadata": {},
   "source": [
    "## Preparing data for visualization "
   ]
  },
  {
   "cell_type": "code",
   "execution_count": null,
   "metadata": {
    "collapsed": false
   },
   "outputs": [],
   "source": [
    "male = titanic_clean[titanic_clean[:Sex].==\"male\",:]\n",
    "female = titanic_clean[titanic_clean[:Sex].==\"female\",:]"
   ]
  },
  {
   "cell_type": "code",
   "execution_count": null,
   "metadata": {
    "collapsed": false
   },
   "outputs": [],
   "source": [
    "sex_ftable = freqtable(titanic_clean, :Sex)\n",
    "survived_ftable = freqtable(titanic_clean, :Survived)\n",
    "female_ftable = freqtable(female, :Survived)\n",
    "male_ftable = freqtable(male, :Survived)"
   ]
  },
  {
   "cell_type": "markdown",
   "metadata": {},
   "source": [
    "### Why use javascript charting library?\n",
    "- Easy to integrate with any application. Separates out the visualization from \n",
    "  rest of the data wrangling and stats stuff\n",
    "- Dynamic and interactive\n",
    "\n",
    "### Why Plotly?\n",
    "\n",
    "Go see for yourselves: https://plot.ly/javascript/\n",
    "\n",
    "- It’s open source. Built on D3.js and stack.gl\n",
    "- D3.js is “The” go to charting library widely used.\n",
    "- Based on declarative json schema"
   ]
  },
  {
   "cell_type": "markdown",
   "metadata": {},
   "source": [
    "## Let's hit it "
   ]
  },
  {
   "cell_type": "markdown",
   "metadata": {},
   "source": [
    "In section 02 we used `StatsPlots` to create some quick visualizations and now we shall try to replicate them using `PlotlyJS`."
   ]
  },
  {
   "cell_type": "code",
   "execution_count": null,
   "metadata": {
    "collapsed": false
   },
   "outputs": [],
   "source": [
    "trace1 = PlotlyJS.pie(;values=[sex_ftable[\"male\"],sex_ftable[\"female\"]],labels=[\"Male\",\"Female\"])\n",
    "PlotlyJS.plot([trace1], Layout(height=400))"
   ]
  },
  {
   "cell_type": "markdown",
   "metadata": {},
   "source": [
    "Whoa!! Doesn't it look wonderful? Now look at the top right corner of the plot, you'll see an option to save the plot as a PNG or save and edit plot in cloud.\n",
    "\n",
    "Hover over the pie chart to view the value, percentage and it's label. Do you want to show less? Try modifying the pie chart to show only precentage and label.\n",
    "\n",
    "Hint: what is `hoverinfo` ?"
   ]
  },
  {
   "cell_type": "code",
   "execution_count": null,
   "metadata": {
    "collapsed": false
   },
   "outputs": [],
   "source": [
    "trace1 = PlotlyJS.pie(;values=[survived_ftable[0],survived_ftable[1]],labels=[\"Dead\",\"Survived\"])\n",
    "PlotlyJS.plot([trace1], Layout(height=400))"
   ]
  },
  {
   "cell_type": "code",
   "execution_count": null,
   "metadata": {
    "collapsed": false
   },
   "outputs": [],
   "source": [
    "titanic_clean = delete!(titanic_clean,[1,4,9,11])"
   ]
  },
  {
   "cell_type": "code",
   "execution_count": null,
   "metadata": {
    "collapsed": false
   },
   "outputs": [],
   "source": [
    "trace1 = PlotlyJS.box(;y=titanic_clean[:Age],x=titanic_clean[:Sex])\n",
    "layout = Layout(;yaxis=attr(title=\"Age\"),title=\"Age Distribution by Gender\")\n",
    "PlotlyJS.plot([trace1], layout)"
   ]
  },
  {
   "cell_type": "markdown",
   "metadata": {},
   "source": [
    "The centre line in the box plot represents the median value, but what if we wanted to show the mean instead? \n",
    "\n",
    "Hint: What is `boxmean`?"
   ]
  },
  {
   "cell_type": "code",
   "execution_count": null,
   "metadata": {
    "collapsed": false,
    "scrolled": true
   },
   "outputs": [],
   "source": [
    "trace1 = PlotlyJS.histogram(;x=titanic_clean[:Age])\n",
    "layout = Layout(;yaxis=attr(title=\"Frequency of Bucket\"), xaxis=attr(title=\"Distribution of Age\"),title=\"Distribution of Passenger Ages on Titanic\")\n",
    "PlotlyJS.plot([trace1], layout)\n"
   ]
  },
  {
   "cell_type": "code",
   "execution_count": null,
   "metadata": {
    "collapsed": false
   },
   "outputs": [],
   "source": [
    "@time titanic_array_survived = array(titanic_clean[:Survived])\n",
    "@time titanic_array = array(titanic_clean[:,[:Age,:Fare]])"
   ]
  },
  {
   "cell_type": "code",
   "execution_count": null,
   "metadata": {
    "collapsed": false
   },
   "outputs": [],
   "source": [
    "    @eval using DataFrames, Colors\n",
    "    # load data\n",
    "\n",
    "nms = unique(titanic_clean[:Survived])\n",
    "    colors = [RGB(0.89, 0.1, 0.1), RGB(0.21, 0.50, 0.72), RGB(0.28, 0.68, 0.3)]\n",
    "    data = GenericTrace[]\n",
    "    for (i, nm) in enumerate(nms)\n",
    "        df = titanic_clean[titanic_clean[:Survived] .== nm, :]\n",
    "#        df = df[1:100,:]\n",
    "        x=df[:Age]\n",
    "        y=df[:Fare]\n",
    "        trace = PlotlyJS.scatter(;name=nm, mode=\"markers\",\n",
    "                           marker_size=5, marker_color=colors[i], marker_line_width=0,\n",
    "                           x=x, y=y)\n",
    "        push!(data, trace)\n",
    "    end\n",
    "\n",
    "layout = Layout(autosize=true, title=\"Scatter Plot - Age Vs Fare\",\n",
    "                    xaxis=attr(showbackground=true,\n",
    "                                          backgroundcolor=\"rgb(230, 230,230)\",\n",
    "                                            title = \"Age\"),\n",
    "                               yaxis=attr(showbackground=true,\n",
    "                                           backgroundcolor=\"rgb(230, 230,230)\",\n",
    "    title = \"Fare Price\"))\n",
    "    PlotlyJS.plot(data, layout)"
   ]
  },
  {
   "cell_type": "code",
   "execution_count": null,
   "metadata": {
    "collapsed": false,
    "scrolled": true
   },
   "outputs": [],
   "source": [
    "function clustering_alpha_shapes()\n",
    "    @eval using DataFrames, Colors\n",
    "    # load data\n",
    "    nms = unique(titanic_clean[:Survived])\n",
    "    colors = [RGB(0.89, 0.1, 0.1), RGB(0.21, 0.50, 0.72), RGB(0.28, 0.68, 0.3)]\n",
    "    data = GenericTrace[]\n",
    "    for (i, nm) in enumerate(nms)\n",
    "        df = titanic_clean[titanic_clean[:Survived] .== nm, :]\n",
    "        x=df[:Age]\n",
    "        y=log(df[:Fare])\n",
    "        z=df[:Pclass]\n",
    "        trace = PlotlyJS.scatter3d(;name=nm, mode=\"markers\",\n",
    "                           marker_size=3, marker_color=colors[i], marker_line_width=0,\n",
    "                           x=x, y=y, z=z)\n",
    "        push!(data, trace)\n",
    "    end\n",
    "    # notice the nested attrs to create complex JSON objects\n",
    "    layout = Layout(width=800, height=550, autosize=false, title=\"3D Scatter plot\",\n",
    "                    scene=attr(xaxis=attr(showbackground=true,\n",
    "                                          backgroundcolor=\"rgb(230, 230,230)\",\n",
    "                                            title = \"Age\"),\n",
    "                               yaxis=attr(showbackground=true,\n",
    "                                           backgroundcolor=\"rgb(230, 230,230)\",\n",
    "    title = \"Log of Fare Price\"),\n",
    "                               zaxis=attr(showbackground=true,\n",
    "                                           backgroundcolor=\"rgb(230, 230,230)\",\n",
    "    title = \"Class\")        ))\n",
    "    PlotlyJS.plot(data, layout)\n",
    "end\n",
    "clustering_alpha_shapes()"
   ]
  },
  {
   "cell_type": "code",
   "execution_count": null,
   "metadata": {
    "collapsed": false
   },
   "outputs": [],
   "source": [
    "Dataset.list()"
   ]
  },
  {
   "cell_type": "code",
   "execution_count": null,
   "metadata": {
    "collapsed": false
   },
   "outputs": [],
   "source": [
    "test_array = Dataset.fetch(:titanic_test_predictions)"
   ]
  },
  {
   "cell_type": "code",
   "execution_count": null,
   "metadata": {
    "collapsed": false
   },
   "outputs": [],
   "source": [
    "#Plotting test set predictions\n",
    "\n",
    "function clustering_alpha_shapes()\n",
    "    @eval using DataFrames, Colors, PlotlyJS\n",
    "    # load data\n",
    "    nms = unique(test_array[:comp])\n",
    "    colors = [RGB(0.89, 0.1, 0.1), RGB(0.21, 0.50, 0.72), RGB(0.28, 0.68, 0.3)]\n",
    "    data = GenericTrace[]\n",
    "    tracename = [\"Correct prediction\", \"False negative (Should be alive)\", \"False positive (Should be dead)\"]\n",
    "    for (i, nm) in enumerate(nms)\n",
    "        df = test_array[test_array[:comp] .== nm, :]\n",
    "        x=df[:Age]\n",
    "        y=(df[:Fare])\n",
    "        z=df[:Pclass]\n",
    "        trace = PlotlyJS.scatter3d(;name=nm, mode=\"markers\",\n",
    "        marker_size=3, marker_color=colors[i], marker_line_width=0, name=tracename[i],\n",
    "                           x=x, y=y, z=z)\n",
    "        push!(data, trace)\n",
    "    end\n",
    "\n",
    "    layout = Layout(width=800, height=550, autosize=false, title=\"Titanic Survival\",\n",
    "                    scene=attr(xaxis=attr(showbackground=true,\n",
    "                                          backgroundcolor=\"rgb(230, 230,230)\",\n",
    "                                            title = \"Age\"),\n",
    "                               yaxis=attr(showbackground=true,\n",
    "                                           backgroundcolor=\"rgb(230, 230,230)\",\n",
    "    title = \"Log of Fare Price\"),\n",
    "                               zaxis=attr(showbackground=true,\n",
    "                                           backgroundcolor=\"rgb(230, 230,230)\",\n",
    "    title = \"Class\")        ))\n",
    "    PlotlyJS.plot(data, layout)\n",
    "end\n",
    "clustering_alpha_shapes()"
   ]
  },
  {
   "cell_type": "code",
   "execution_count": null,
   "metadata": {
    "collapsed": false
   },
   "outputs": [],
   "source": [
    "#Testing multiple subplots\n",
    "\n",
    "using Colors\n",
    "    # load data\n",
    "    nms = unique(test_array[:comp])\n",
    "    colors = [RGB(0.89, 0.1, 0.1), RGB(0.21, 0.50, 0.72), RGB(0.28, 0.68, 0.3)]\n",
    "    data = GenericTrace[]\n",
    "    tracename = [\"Correct prediction\", \"False negative (Should be alive)\", \"False positive (Should be dead)\"]\n",
    "    for (i, nm) in enumerate(nms)\n",
    "        df = test_array[test_array[:comp] .== nm, :]\n",
    "        df = df[1:10,:]\n",
    "        x=df[:Age]\n",
    "        y=(df[:Fare])\n",
    "        z=df[:Pclass]\n",
    "        trace = PlotlyJS.scatter3d(;name=nm, mode=\"markers\",\n",
    "        marker_size=3, marker_color=colors[i], marker_line_width=0, name=tracename[i],\n",
    "            x=x, y=y, z=z, scene=\"scene1\")\n",
    "        push!(data, trace)\n",
    " \n",
    "        #df = test_array[test_array[:comp] .== nm, :]\n",
    "        x=df[:Age]\n",
    "        y=(df[:Fare])\n",
    "        z=df[:Pclass]\n",
    "     \n",
    "    trace2 = PlotlyJS.scatter3d(;name=nm, mode=\"markers\", marker_size=3, marker_color=colors[i], marker_line_width=0, name=tracename[i], x=x, y=y, z=z, scene=\"scene2\")\n",
    "        push!(data, trace2)\n",
    "    end\n",
    "   \n",
    "layout = Layout(width=800, height=550, autosize=false, title=\"Titanic Survival\", scene1=attr(domain=attr(x=[0.0,0.5], y=[0.5,1.0]), xaxis=attr(title = \"Age\")), scene2=attr(domain=attr(x=[0.5,1], y=[0.5,1.0])))\n",
    "\n",
    "#    layout = Layout(width=800, height=550, autosize=false, title=\"Titanic Survival\",\n",
    " #                   scene=attr(xaxis=attr(title = \"Age\"), \n",
    " #                              yaxis=attr(showbackground=true, backgroundcolor=\"rgb(230, 230,230)\", title = \"Log of Fare Price\"),\n",
    "  #                             zaxis=attr(showbackground=true, backgroundcolor=\"rgb(230, 230,230)\", title = \"Class\"),       \n",
    "   #                             xaxis2=attr(showbackground=true, backgroundcolor=\"rgb(230, 230,230)\", title = \"Class\", domain=[0.55,1]),\n",
    "    #                            yaxis2=attr(showbackground=true, backgroundcolor=\"rgb(230, 230,230)\", title = \"Class\", anchor=\"x2\"),\n",
    "     #                           zaxis2=attr(showbackground=true, backgroundcolor=\"rgb(230, 230,230)\", title = \"Class\", anchor=\"x2\")\n",
    "      #                          )\n",
    "       #             )\n",
    "    PlotlyJS.plot(data, layout)\n"
   ]
  },
  {
   "cell_type": "markdown",
   "metadata": {},
   "source": [
    "## How to get data to JSON?"
   ]
  },
  {
   "cell_type": "markdown",
   "metadata": {},
   "source": [
    "Set the path to where you want to save the json formatted javascript file."
   ]
  },
  {
   "cell_type": "code",
   "execution_count": null,
   "metadata": {
    "collapsed": false
   },
   "outputs": [],
   "source": [
    "results_js_path = joinpath(Config.Path.results,\"titanic_survived.js\")"
   ]
  },
  {
   "cell_type": "markdown",
   "metadata": {},
   "source": [
    "Create the directory to store the results if it is not already available."
   ]
  },
  {
   "cell_type": "code",
   "execution_count": null,
   "metadata": {
    "collapsed": true
   },
   "outputs": [],
   "source": [
    "if !ispath(Config.Path.results)\n",
    "  mkdir(Config.Path.results)\n",
    "end"
   ]
  },
  {
   "cell_type": "markdown",
   "metadata": {},
   "source": [
    "To get data written to a file in JSON format we created a utility function in Julia:\n",
    "\n",
    "http://juliabox.cloud.cybera.ca/edit/titanic-julia/src/lib/DataFrameUtil.jl"
   ]
  },
  {
   "cell_type": "code",
   "execution_count": null,
   "metadata": {
    "collapsed": false
   },
   "outputs": [],
   "source": [
    "write_js(results_js_path, titanic, [:Survived], append=true)"
   ]
  },
  {
   "cell_type": "markdown",
   "metadata": {},
   "source": [
    "## Exercises: "
   ]
  },
  {
   "cell_type": "markdown",
   "metadata": {},
   "source": [
    "Create another pie chart with some of the features you're interested in."
   ]
  },
  {
   "cell_type": "code",
   "execution_count": null,
   "metadata": {
    "collapsed": false
   },
   "outputs": [],
   "source": [
    "trace1 = PlotlyJS.pie(;values=[survived_ftable[0],survived_ftable[1]],labels=[\"Dead\",\"Survived\"])\n",
    "PlotlyJS.plot([trace1], Layout(height=400))"
   ]
  }
 ],
 "metadata": {
  "kernelspec": {
   "display_name": "Julia 0.5.0",
   "language": "julia",
   "name": "julia-0.5"
  },
  "language_info": {
   "file_extension": ".jl",
   "mimetype": "application/julia",
   "name": "julia",
   "version": "0.5.0"
  }
 },
 "nbformat": 4,
 "nbformat_minor": 0
}
