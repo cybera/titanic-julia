{
 "cells": [
  {
   "cell_type": "markdown",
   "metadata": {},
   "source": [
    "## Setting up the environment"
   ]
  },
  {
   "cell_type": "code",
   "execution_count": null,
   "metadata": {
    "collapsed": false
   },
   "outputs": [],
   "source": [
    "ENV[\"OS_AUTH_URL\"]=\"https://keystone-yeg.cloud.cybera.ca:5000/v2.0\"\n",
    "ENV[\"OS_TENANT_NAME\"]=\"julia_workshop\"\n",
    "ENV[\"OS_PROJECT_NAME\"]=\"julia_workshop\"\n",
    "ENV[\"OS_USERNAME\"]=\"\"\n",
    "ENV[\"OS_PASSWORD\"]=\"\"\n",
    "\n",
    "include(joinpath(\"..\", \"src\", \"lib\", \"Config.jl\"))"
   ]
  },
  {
   "cell_type": "markdown",
   "metadata": {},
   "source": [
    "## Loading Modules"
   ]
  },
  {
   "cell_type": "code",
   "execution_count": null,
   "metadata": {
    "collapsed": false
   },
   "outputs": [],
   "source": [
    "using FreqTables\n",
    "using PlotlyJS\n",
    "using MultivariateStats"
   ]
  },
  {
   "cell_type": "markdown",
   "metadata": {},
   "source": [
    "## Fetching the dataset"
   ]
  },
  {
   "cell_type": "code",
   "execution_count": null,
   "metadata": {
    "collapsed": false
   },
   "outputs": [],
   "source": [
    "titanic = Dataset.fetch(:titanic)"
   ]
  },
  {
   "cell_type": "markdown",
   "metadata": {},
   "source": [
    "## Preparing data for visualization "
   ]
  },
  {
   "cell_type": "code",
   "execution_count": null,
   "metadata": {
    "collapsed": false
   },
   "outputs": [],
   "source": [
    "male = titanic[titanic[:Sex].==\"male\",:]\n",
    "female = titanic[titanic[:Sex].==\"female\",:]"
   ]
  },
  {
   "cell_type": "code",
   "execution_count": null,
   "metadata": {
    "collapsed": false
   },
   "outputs": [],
   "source": [
    "sex_ftable = freqtable(titanic, :Sex)\n",
    "survived_ftable = freqtable(titanic, :Survived)\n",
    "female_ftable = freqtable(female, :Survived)\n",
    "male_ftable = freqtable(male, :Survived)"
   ]
  },
  {
   "cell_type": "markdown",
   "metadata": {},
   "source": [
    "### Why use javascript charting library?\n",
    "- Easy to integrate with any application. Separates out the visualization from \n",
    "  rest of the data wrangling and stats stuff\n",
    "- Dynamic and interactive\n",
    "\n",
    "### Why Plotly?\n",
    "\n",
    "Go see for yourselves: https://plot.ly/javascript/\n",
    "\n",
    "- It’s open source. Built on D3.js and stack.gl\n",
    "- D3.js is “The” go to charting library widely used.\n",
    "- Based on declarative json schema"
   ]
  },
  {
   "cell_type": "markdown",
   "metadata": {},
   "source": [
    "## Let's hit it "
   ]
  },
  {
   "cell_type": "code",
   "execution_count": null,
   "metadata": {
    "collapsed": false
   },
   "outputs": [],
   "source": [
    "trace1 = PlotlyJS.pie(;values=[sex_ftable[\"male\"],sex_ftable[\"female\"]],labels=[\"Male\",\"Female\"])\n",
    "PlotlyJS.plot([trace1], Layout(height=400))"
   ]
  },
  {
   "cell_type": "code",
   "execution_count": null,
   "metadata": {
    "collapsed": false
   },
   "outputs": [],
   "source": [
    "trace1 = PlotlyJS.pie(;values=[survived_ftable[0],survived_ftable[1]],labels=[\"Dead\",\"Survived\"])\n",
    "PlotlyJS.plot([trace1], Layout(height=400))"
   ]
  },
  {
   "cell_type": "code",
   "execution_count": null,
   "metadata": {
    "collapsed": false
   },
   "outputs": [],
   "source": [
    "titanic_clean = titanic\n",
    "titanic_clean = delete!(titanic_clean,[1,4,9,11])\n",
    "titanic_clean = titanic_clean[~isna(titanic_clean[:Age]),:]\n",
    "titanic_clean = titanic_clean[~isna(titanic_clean[:Sex]),:]\n",
    "titanic_clean = titanic_clean[~isna(titanic_clean[:Survived]),:]"
   ]
  },
  {
   "cell_type": "code",
   "execution_count": null,
   "metadata": {
    "collapsed": false
   },
   "outputs": [],
   "source": [
    "trace1 = PlotlyJS.box(;y=titanic_clean[:Age],x=titanic_clean[:Sex])\n",
    "layout = Layout(;yaxis=attr(title=\"Age\"),title=\"Age Distribution by Gender\")\n",
    "PlotlyJS.plot([trace1], layout)"
   ]
  },
  {
   "cell_type": "code",
   "execution_count": null,
   "metadata": {
    "collapsed": false,
    "scrolled": true
   },
   "outputs": [],
   "source": [
    "trace1 = PlotlyJS.histogram(;x=titanic_clean[:Age])\n",
    "layout = Layout(;yaxis=attr(title=\"Frequency of Bucket\"), xaxis=attr(title=\"Distribution of Age\"),title=\"Distribution of Passenger Ages on Titanic\")\n",
    "PlotlyJS.plot([trace1], layout)\n"
   ]
  },
  {
   "cell_type": "code",
   "execution_count": null,
   "metadata": {
    "collapsed": false
   },
   "outputs": [],
   "source": [
    "age = titanic[:Age]\n",
    "fare = titanic[:Fare]\n",
    "survival = titanic[:Survived]\n",
    "\n",
    "trace1 = PlotlyJS.scatter(;x=age, y=fare, marker_opacity =1, mode=\"markers\", name=\"Training\")\n",
    "trace2 = PlotlyJS.contour(x=age, y=fare, z=survival, opacity =0.2, name=\"trace2_y, trace5_y, trace8_y, trace11_y, trace14_y, trace17_y, trace20_y, trace23_y, trace26_y\")\n",
    "\n",
    "\n",
    "\n",
    "\n",
    "data = [trace1, trace2]\n",
    "layout = Layout(;title=\"Trying out...\", yaxis_title=\"Fare\")\n",
    "PlotlyJS.plot(data, layout)"
   ]
  },
  {
   "cell_type": "code",
   "execution_count": null,
   "metadata": {
    "collapsed": false
   },
   "outputs": [],
   "source": [
    "age = titanic[:Age]\n",
    "sex = titanic[:Sex]\n",
    "survival = titanic[:Survived]\n",
    "\n",
    "trace1 = PlotlyJS.scatter(;x=age, y=sex, marker_opacity =1, mode=\"markers\", name=\"Training\")\n",
    "trace2 = PlotlyJS.contour(x=age, y=sex, z=survival, opacity =0.2, name=\"trace2_y, trace5_y, trace8_y, trace11_y, trace14_y, trace17_y, trace20_y, trace23_y, trace26_y\")\n",
    "\n",
    "\n",
    "\n",
    "\n",
    "data = [trace1, trace2]\n",
    "layout = Layout(;title=\"Trying out...\", yaxis_title=\"Gender\")\n",
    "PlotlyJS.plot(data, layout)"
   ]
  },
  {
   "cell_type": "code",
   "execution_count": null,
   "metadata": {
    "collapsed": false
   },
   "outputs": [],
   "source": [
    "age = titanic[:Age]\n",
    "sex = titanic[:Sex]\n",
    "survival = titanic[:Survived]\n",
    "pclass = titanic[:Pclass]\n",
    "\n",
    "trace1 = PlotlyJS.scatter(;x=sex, y=pclass, marker_opacity =1, mode=\"markers\", name=\"Training\")\n",
    "trace2 = PlotlyJS.contour(x=sex, y=pclass, z=survival, opacity =0.2, name=\"trace2_y, trace5_y, trace8_y, trace11_y, trace14_y, trace17_y, trace20_y, trace23_y, trace26_y\")\n",
    "\n",
    "\n",
    "\n",
    "\n",
    "data = [trace1, trace2]\n",
    "layout = Layout(;title=\"Trying out...\", yaxis_title=\"Passenger class\", xaxis_titel=\"Gender\")\n",
    "PlotlyJS.plot(data, layout)"
   ]
  },
  {
   "cell_type": "code",
   "execution_count": null,
   "metadata": {
    "collapsed": false
   },
   "outputs": [],
   "source": [
    "@time titanic_array_survived = array(titanic_clean[:2])\n",
    "@time titanic_array = array(titanic_clean[:,[6,10]])"
   ]
  },
  {
   "cell_type": "code",
   "execution_count": null,
   "metadata": {
    "collapsed": false
   },
   "outputs": [],
   "source": [
    "M = MultivariateStats.fit(PCA, titanic_array, maxoutdim=100)\n",
    "Yte = MultivariateStats.transform(M,titanic_array)\n",
    "Xr = reconstruct(M,Yte)\n",
    "final_titanic = convert(DataFrame,Xr)"
   ]
  },
  {
   "cell_type": "code",
   "execution_count": null,
   "metadata": {
    "collapsed": false
   },
   "outputs": [],
   "source": [
    "age = final_titanic[:x1]\n",
    "fare = final_titanic[:x2]\n",
    "survival = titanic_clean[:Survived]\n",
    "\n",
    "trace1 = PlotlyJS.scatter(;x=age, y=fare, marker_opacity =1, mode=\"markers\", name=\"Training\")\n",
    "trace2 = PlotlyJS.contour(x=age, y=fare, z=survival, opacity =0.2, name=\"trace2_y, trace5_y, trace8_y, trace11_y, trace14_y, trace17_y, trace20_y, trace23_y, trace26_y\")\n",
    "\n",
    "\n",
    "\n",
    "\n",
    "data = [trace1, trace2]\n",
    "layout = Layout(;title=\"Trying out...\", yaxis_title=\"Fare\")\n",
    "PlotlyJS.plot(data, layout)"
   ]
  },
  {
   "cell_type": "code",
   "execution_count": null,
   "metadata": {
    "collapsed": false
   },
   "outputs": [],
   "source": [
    "function clustering_alpha_shapes()\n",
    "    @eval using DataFrames, Colors\n",
    "    # load data\n",
    "\n",
    "    nms = unique(titanic[:Survived])\n",
    "    colors = [RGB(0.89, 0.1, 0.1), RGB(0.21, 0.50, 0.72), RGB(0.28, 0.68, 0.3)]\n",
    "    data = GenericTrace[]\n",
    "    for (i, nm) in enumerate(nms)\n",
    "        df = titanic[titanic[:Survived] .== nm, :]\n",
    "        x=df[:Age]\n",
    "        y=log(df[:Fare])\n",
    "        z=df[:Pclass]\n",
    "        trace = PlotlyJS.scatter3d(;name=nm, mode=\"markers\",\n",
    "                           marker_size=3, marker_color=colors[i], marker_line_width=0,\n",
    "                           x=x, y=y, z=z)\n",
    "        push!(data, trace)\n",
    "        cluster = mesh3d(;color=colors[i], opacity=0.3, x=x, y=y, z=z)\n",
    "        push!(data, cluster)\n",
    "    end\n",
    "    # notice the nested attrs to create complex JSON objects\n",
    "    layout = Layout(width=800, height=550, autosize=false, title=\"Titanic Survival\",\n",
    "                    scene=attr(xaxis=attr(gridcolor=\"rgb(255, 255, 255)\",\n",
    "                                          zerolinecolor=\"rgb(255, 255, 255)\",\n",
    "                                          showbackground=true,\n",
    "                                          backgroundcolor=\"rgb(230, 230,230)\",\n",
    "                                            title = \"Age\"),\n",
    "                               yaxis=attr(gridcolor=\"rgb(255, 255, 255)\",\n",
    "                                           zerolinecolor=\"rgb(255, 255, 255)\",\n",
    "                                           showbackground=true,\n",
    "                                           backgroundcolor=\"rgb(230, 230,230)\",\n",
    "    title = \"Log of Fare Price\"),\n",
    "                               zaxis=attr(gridcolor=\"rgb(255, 255, 255)\",\n",
    "                                           zerolinecolor=\"rgb(255, 255, 255)\",\n",
    "                                           showbackground=true,\n",
    "                                           backgroundcolor=\"rgb(230, 230,230)\",\n",
    "    title = \"Class\"),\n",
    "                               aspectratio=attr(x=1, y=1, z=0.7),\n",
    "                               aspectmode = \"manual\"))\n",
    "    PlotlyJS.plot(data, layout)\n",
    "end\n",
    "clustering_alpha_shapes()"
   ]
  },
  {
   "cell_type": "markdown",
   "metadata": {},
   "source": [
    "## How to get data to JSON?"
   ]
  },
  {
   "cell_type": "markdown",
   "metadata": {},
   "source": [
    "Set the path to where you want to save the json formatted javascript file."
   ]
  },
  {
   "cell_type": "code",
   "execution_count": null,
   "metadata": {
    "collapsed": false
   },
   "outputs": [],
   "source": [
    "results_js_path = joinpath(Config.Path.results,\"titanic_survived.js\")"
   ]
  },
  {
   "cell_type": "markdown",
   "metadata": {},
   "source": [
    "Create the directory to store the results if it is not already available."
   ]
  },
  {
   "cell_type": "code",
   "execution_count": null,
   "metadata": {
    "collapsed": true
   },
   "outputs": [],
   "source": [
    "if !ispath(Config.Path.results)\n",
    "  mkdir(Config.Path.results)\n",
    "end"
   ]
  },
  {
   "cell_type": "markdown",
   "metadata": {},
   "source": [
    "To get data written to a file in JSON format we created a utility function in Julia:\n",
    "\n",
    "http://juliabox.cloud.cybera.ca/edit/titanic-julia/src/lib/DataFrameUtil.jl"
   ]
  },
  {
   "cell_type": "code",
   "execution_count": null,
   "metadata": {
    "collapsed": false
   },
   "outputs": [],
   "source": [
    "write_js(results_js_path, titanic, [:Survived], append=true)"
   ]
  }
 ],
 "metadata": {
  "kernelspec": {
   "display_name": "Julia 0.5.0",
   "language": "julia",
   "name": "julia-0.5"
  },
  "language_info": {
   "file_extension": ".jl",
   "mimetype": "application/julia",
   "name": "julia",
   "version": "0.5.0"
  }
 },
 "nbformat": 4,
 "nbformat_minor": 0
}
