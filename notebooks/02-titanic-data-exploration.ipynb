{
 "cells": [
  {
   "cell_type": "markdown",
   "metadata": {},
   "source": [
    "# Set up your environment"
   ]
  },
  {
   "cell_type": "code",
   "execution_count": null,
   "metadata": {
    "collapsed": false
   },
   "outputs": [],
   "source": [
    "ENV[\"OS_AUTH_URL\"]=\"https://keystone-yeg.cloud.cybera.ca:5000/v2.0\"\n",
    "ENV[\"OS_TENANT_NAME\"]=\"julia_workshop\"\n",
    "ENV[\"OS_PROJECT_NAME\"]=\"julia_workshop\"\n",
    "ENV[\"OS_USERNAME\"]=\"\"\n",
    "ENV[\"OS_PASSWORD\"]=\"\"\n",
    "\n",
    "include(joinpath(\"..\", \"src\", \"lib\", \"Config.jl\"))"
   ]
  },
  {
   "cell_type": "markdown",
   "metadata": {},
   "source": [
    "# Exploring existing datasets\n",
    "\n",
    "This framework is integrated with Swift, so that you can fetch datasets from a shared container. You can also push new datasets or transformations back to the container for your teammates to share.\n",
    "\n",
    "Let's see what's there."
   ]
  },
  {
   "cell_type": "code",
   "execution_count": null,
   "metadata": {
    "collapsed": false,
    "scrolled": true
   },
   "outputs": [],
   "source": [
    "Dataset.list()"
   ]
  },
  {
   "cell_type": "markdown",
   "metadata": {},
   "source": [
    "We'll grab the `:titanic` dataset to start exploring."
   ]
  },
  {
   "cell_type": "code",
   "execution_count": null,
   "metadata": {
    "collapsed": false
   },
   "outputs": [],
   "source": [
    "titanic = Dataset.fetch(:titanic)"
   ]
  },
  {
   "cell_type": "markdown",
   "metadata": {},
   "source": [
    "Notice that the first time you run this, it will say \"titanic: Found uploaded raw version\". This means that it did not find the dataset locally, but did find it in the project's Swift container. It will cache this dataset locally in a *.csv* file. If you run the above code again, it will say \"titanic: Found raw version\", meaning it's found the dataset on the local filesystem and there's no need to download it."
   ]
  },
  {
   "cell_type": "markdown",
   "metadata": {},
   "source": [
    "# About the Titanic Dataset\n",
    "\n",
    "From [Kagle's Titanic dataset page](https://www.kaggle.com/c/titanic/data):\n",
    "\n",
    "#### VARIABLE DESCRIPTIONS\n",
    "\n",
    "| Name | Description |\n",
    "|------|-------------|\n",
    "| **PassengerId** | Passenger ID |\n",
    "| **Survived** | Survival (0 = No; 1 = Yes) |\n",
    "| **Pclass** | Passenger Class (1 = 1st; 2 = 2nd; 3 = 3rd) |\n",
    "| **Name** | Name |\n",
    "| **Sex** | Sex (\"male\", \"female\") |\n",
    "| **Age** | Age |\n",
    "| **SibSp** | Number of Siblings/Spouses Aboard |\n",
    "| **Parch** | Number of Parents/Children Aboard |\n",
    "| **Ticket** | Ticket Number |\n",
    "| **Fare** | Passenger Fare |\n",
    "| **Cabin** | Cabin |\n",
    "| **Embarked** | Port of Embarkation (\"C\" = Cherbourg; \"Q\" = Queenstown; \"S\" = Southampton) |\n",
    "\n",
    "#### SPECIAL NOTES\n",
    "\n",
    "**Pclass** is a proxy for socio-economic status (SES): *1st* ~ Upper; *2nd* ~ Middle; *3rd* ~ Lower\n",
    "\n",
    "**Age** is in Years; Fractional if **Age** less than One (1). If the **Age** is Estimated, it is in the form xx.5\n",
    "\n",
    "With respect to the family relation variables (i.e. **SibSp** and **Parch**) some relations were ignored.  The following are the definitions used for **SibSp** and **Parch**:\n",
    "\n",
    "- *Sibling*:  Brother, Sister, Stepbrother, or Stepsister of Passenger Aboard Titanic\n",
    "- *Spouse*:   Husband or Wife of Passenger Aboard Titanic (Mistresses and Fiances Ignored)\n",
    "- *Parent*:   Mother or Father of Passenger Aboard Titanic\n",
    "- *Child*:    Son, Daughter, Stepson, or Stepdaughter of Passenger Aboard Titanic\n",
    "\n",
    "Other family relatives excluded from this study include cousins, nephews/nieces, aunts/uncles, and in-laws.  Some children travelled only with a nanny, therefore parch=0 for them.  As well, some travelled with very close friends or neighbors in a village, however, the definitions do not support such relations."
   ]
  },
  {
   "cell_type": "markdown",
   "metadata": {},
   "source": [
    "# Loading modules\n",
    "\n",
    "We're going to grab the `FreqTables` module and our own `Titanic` module. To do that, we use the `using` keyword. This will put any exported functions into the current namespace. If you want to keep from polluting the namespace and don't mind prepending the module name to function calls, you can use `import` instead."
   ]
  },
  {
   "cell_type": "code",
   "execution_count": null,
   "metadata": {
    "collapsed": false
   },
   "outputs": [],
   "source": [
    "using FreqTables\n",
    "using Titanic"
   ]
  },
  {
   "cell_type": "markdown",
   "metadata": {},
   "source": [
    "# Beginning exploration\n",
    "\n",
    "You can use a frequency table to reduce the data down to a simple set of counts of different value types in a column.\n",
    "\n",
    "Use a frequency table to show how many people survived vs how many died."
   ]
  },
  {
   "cell_type": "code",
   "execution_count": null,
   "metadata": {
    "collapsed": false
   },
   "outputs": [],
   "source": [
    "freqtable(titanic[:Survived])"
   ]
  },
  {
   "cell_type": "markdown",
   "metadata": {},
   "source": [
    "The result is a bit cryptic. There's a count of *0* and *1*, the two values that appear in the *Survived* column. The Titanic dataset uses *0* to represent \"Dead\" and a *1* to represent \"Survived\". We'll make this a little more readable soon."
   ]
  },
  {
   "cell_type": "markdown",
   "metadata": {},
   "source": [
    "Frequency tables can be used to show frequencies based on more than one column. We can use the following code to see how many men vs how many women survived."
   ]
  },
  {
   "cell_type": "code",
   "execution_count": null,
   "metadata": {
    "collapsed": false
   },
   "outputs": [],
   "source": [
    "freqtable(titanic, :Sex, :Survived)"
   ]
  },
  {
   "cell_type": "markdown",
   "metadata": {},
   "source": [
    "Let's deal with that *Survived* column. In *R*, you would use *factors* and *levels* to massage the data. *Julia* doesn't have any special functionality for this sort of thing, but you can get similar results by using *enums*.\n",
    "\n",
    "Note: The \"@\" prefix indicates this is a Julia macro. We won't be getting too much into these. They give Julia a lot of meta-programming power. While they're often used along with regular function calls, they're a bit more complicated to create and reason about."
   ]
  },
  {
   "cell_type": "code",
   "execution_count": null,
   "metadata": {
    "collapsed": true
   },
   "outputs": [],
   "source": [
    "@enum SurvivedType Dead=0 Survived=1\n",
    "titanic[:Survived] = to_enum(SurvivedType, titanic[:Survived])\n",
    "pool!(titanic, [:Sex, :Survived])"
   ]
  },
  {
   "cell_type": "markdown",
   "metadata": {},
   "source": [
    "We created the `to_enum` function as part of the framework to make converting a column to a defined *enum* easier. You can check that code out in *src/lib/Titanic.jl* if you're interested. The `pool!` function is part of the *DataFrames* module. While not strictly necessary, it can save storage space by making references to repeated data instead of copies.\n",
    "\n",
    "The `levels` function shows us the unique values that occur in a column. We can use that to see if our conversion worked."
   ]
  },
  {
   "cell_type": "code",
   "execution_count": null,
   "metadata": {
    "collapsed": false
   },
   "outputs": [],
   "source": [
    "levels(titanic[:Survived])"
   ]
  },
  {
   "cell_type": "markdown",
   "metadata": {},
   "source": [
    "If we output our frequency table again for the *Sex* and *Survived* columns, we'll now see the more readable headings for *Survived*."
   ]
  },
  {
   "cell_type": "code",
   "execution_count": null,
   "metadata": {
    "collapsed": false
   },
   "outputs": [],
   "source": [
    "freqtable(titanic, :Sex, :Survived)"
   ]
  },
  {
   "cell_type": "markdown",
   "metadata": {},
   "source": [
    "Let's try one more frequency table while we're at it..."
   ]
  },
  {
   "cell_type": "code",
   "execution_count": null,
   "metadata": {
    "collapsed": false
   },
   "outputs": [],
   "source": [
    "freqtable(titanic, :Embarked)"
   ]
  },
  {
   "cell_type": "markdown",
   "metadata": {},
   "source": [
    "Uh oh. That didn't work. Apparently it doesn't know quite what to do with `DataArrays.NAtype`."
   ]
  },
  {
   "cell_type": "markdown",
   "metadata": {},
   "source": [
    "# NA values"
   ]
  },
  {
   "cell_type": "markdown",
   "metadata": {},
   "source": [
    "Languages like *Julia* and *R* use `NA` to represent missing data, and while some statistical functions may recognize these and automatically deal with them, many will not. There's no \"safe\" way of dealing with `NA` values. At first glance, throwing out the entire row may seem like the safest approach, but even this method can cause skewed results with some machine learning algorithms that make decisions based on multiple column values. Throwing out those rows may not affect the distibution of the column *with* the `NA` values, but it could definitely distort the distributions of other columns."
   ]
  },
  {
   "cell_type": "markdown",
   "metadata": {},
   "source": [
    "First, let's see what we're dealing with. How many columns in the Titanic dataset actually have `NA` values? And what percentage of data points do those `NA` values comprise?"
   ]
  },
  {
   "cell_type": "code",
   "execution_count": null,
   "metadata": {
    "collapsed": false
   },
   "outputs": [],
   "source": [
    "describe(titanic)"
   ]
  },
  {
   "cell_type": "markdown",
   "metadata": {},
   "source": [
    "Fortunately, we only have to think about `NA` values in 3 columns: **Age**, **Cabin**, and **Embarked**. We're not going to be using the **Cabin** column in this workshop, so we'll just ignore that. There are only 2 `NA` values in **Embarked**, so we could just drop the rows with `NA` for **Embarked**. But we can actually make a pretty good guess for this column right away. Let's call our `freqtable` function again, but drop the `NA` values from the array we're passing in first."
   ]
  },
  {
   "cell_type": "code",
   "execution_count": null,
   "metadata": {
    "collapsed": false
   },
   "outputs": [],
   "source": [
    "freqtable(dropna(titanic[:Embarked]))"
   ]
  },
  {
   "cell_type": "markdown",
   "metadata": {},
   "source": [
    "Of the non-`NA` values, a passenger on the Titanic only embarked from 1 of 3 places: *Cherbourg (C)*, *Queenstown (Q)*, or *Southampton (S)*. And, if you were to pick a random passenger, you'd have about a 72% chance of picking one who departed from *Southampton*. It also happens to be the mode of the distribution. So, that might be a good value to fill the `NA` values in with."
   ]
  },
  {
   "cell_type": "code",
   "execution_count": null,
   "metadata": {
    "collapsed": false
   },
   "outputs": [],
   "source": [
    "titanic_clean = deepcopy(titanic)\n",
    "embarked_mode = mode(dropna(titanic_clean[:Embarked]))\n",
    "titanic_clean[isna(titanic_clean[:Embarked]),:Embarked] = embarked_mode"
   ]
  },
  {
   "cell_type": "markdown",
   "metadata": {},
   "source": [
    "**Age** is more concerning. We don't want to have to throw away 20% of our passenger data if we can help it.\n",
    "\n",
    "Right now, our problem is that we don't know what a good guess would be to fill in those age columns. Let's remove them for now and see what the data shows us about **Age**."
   ]
  },
  {
   "cell_type": "code",
   "execution_count": null,
   "metadata": {
    "collapsed": false
   },
   "outputs": [],
   "source": [
    "titanic_clean = titanic_clean[~isna(titanic_clean[:Age]),:]"
   ]
  },
  {
   "cell_type": "markdown",
   "metadata": {},
   "source": [
    "# Visualization\n",
    "\n",
    "We'll use the `StatPlots` module, which is part of the Julia `Plots` ecosystem to do some quick visualizations of the data to help with our exploration. There are many different plotting libraries out there. Some are better than others in particular areas. We'll be showing plot.ly later for more interactive charts that you might want to use to present to your final audience, but during the exploration phase, you generally want to use tools that will produce quick visualizations."
   ]
  },
  {
   "cell_type": "code",
   "execution_count": null,
   "metadata": {
    "collapsed": false
   },
   "outputs": [],
   "source": [
    "using StatPlots\n",
    "pyplot()"
   ]
  },
  {
   "cell_type": "markdown",
   "metadata": {},
   "source": [
    "We can now look at some of the same information we were using frequency tables for with pie charts.\n",
    "\n",
    "Let's look at the proportions of female and male passengers."
   ]
  },
  {
   "cell_type": "code",
   "execution_count": null,
   "metadata": {
    "collapsed": false
   },
   "outputs": [],
   "source": [
    "pie([\"Female\", \"Male\"], freqtable(titanic, :Sex))"
   ]
  },
  {
   "cell_type": "markdown",
   "metadata": {},
   "source": [
    "Or how many people survived..."
   ]
  },
  {
   "cell_type": "code",
   "execution_count": null,
   "metadata": {
    "collapsed": false
   },
   "outputs": [],
   "source": [
    "pie([\"Dead\", \"Survived\"],freqtable(titanic, :Survived))"
   ]
  },
  {
   "cell_type": "markdown",
   "metadata": {},
   "source": [
    "To visualize the survival of female vs male passengers, first divide the dataset into two groups, one with all male passengers and one with all female passengers.\n",
    "\n",
    "Below are two different ways to accomplish the same task. The first just uses Julia and the DataFrames module's basic indexing functionality. The second is the `subset` method, which we added to the framework to allow an easier to read, more general way of subsetting."
   ]
  },
  {
   "cell_type": "code",
   "execution_count": null,
   "metadata": {
    "collapsed": false
   },
   "outputs": [],
   "source": [
    "# basic Julia code\n",
    "male = titanic[titanic[:Sex] .== \"male\",:]\n",
    "female = titanic[titanic[:Sex] .== \"female\",:]\n",
    "\n",
    "# via the framework:\n",
    "male = subset(titanic, :Sex, \"male\")\n",
    "female = subset(titanic, :Sex, \"female\")"
   ]
  },
  {
   "cell_type": "markdown",
   "metadata": {},
   "source": [
    "Now we can lay out some pie charts side by side to show the survival rates of the two subsets."
   ]
  },
  {
   "cell_type": "code",
   "execution_count": null,
   "metadata": {
    "collapsed": false
   },
   "outputs": [],
   "source": [
    "layout = grid(1,2)\n",
    "pie([\"Dead\",\"Survived\"],freqtable(male, :Survived),title=\"Survival Portion of Men\",layout=layout)\n",
    "pie!([\"Dead\",\"Survived\"],freqtable(female, :Survived),title=\"Survival Portion of Women\",layout=layout,subplot=2)"
   ]
  },
  {
   "cell_type": "markdown",
   "metadata": {},
   "source": [
    "### Statistical plots\n",
    "\n",
    "Next up, we'll look at some more traditional statistical plots, useful for understanding the shape of your data."
   ]
  },
  {
   "cell_type": "markdown",
   "metadata": {},
   "source": [
    "Boxplots help us visualize the dispersion of a set of values. The boxes represent the interquartile range (middle 50%) of the values. The whiskers extend that range 1.5x from the 1st and 3rd quartiles (the beginning and end of the middle 50%). And values beyond those points will show up as dots. This is useful for spotting data with outliers or where the mean may not be the best measure of central tendency."
   ]
  },
  {
   "cell_type": "code",
   "execution_count": null,
   "metadata": {
    "collapsed": false
   },
   "outputs": [],
   "source": [
    "boxplot(titanic_clean, :Sex, :Age, title=\"Age Distribution by Gender\", notch=true)"
   ]
  },
  {
   "cell_type": "markdown",
   "metadata": {},
   "source": [
    "Above, we see that the age distribution of males and females is fairly similar, though females on board tend to be a bit younger than males overall, but there are a few outliers in male ages above the 3rd quartile + 1.5x the interquartile range.\n",
    "\n",
    "Let's look at the age distrubution in terms of survival."
   ]
  },
  {
   "cell_type": "code",
   "execution_count": null,
   "metadata": {
    "collapsed": false
   },
   "outputs": [],
   "source": [
    "boxplot(titanic_clean, :Survived, :Age, title=\"Age Distribution By Survival\", notch=true, ylabel=\"Age\")"
   ]
  },
  {
   "cell_type": "markdown",
   "metadata": {},
   "source": [
    "In this case, both of our groups are showing outliers on the top end of the distribution. Those who survive tend to be a bit younger than those who don't.\n",
    "\n",
    "Let's look closer at the distribution of ages. A histogram allows us to divide the values into buckets (or bins) to see the overall shape of the set. This can be useful in determining whether or not your values are normally distributed or follow some other common distribution. Depending on how the data is distributed, certain statistical tools will be more appropriate than others."
   ]
  },
  {
   "cell_type": "code",
   "execution_count": null,
   "metadata": {
    "collapsed": false
   },
   "outputs": [],
   "source": [
    "histogram(titanic_clean[:Age], xlabel=\"Distribution of Age\", ylabel=\"Frequency of Bucket\", \n",
    "          title=\"Distribution of Passenger Ages on Titanic\",bins=12)"
   ]
  },
  {
   "cell_type": "markdown",
   "metadata": {},
   "source": [
    "The number of very young members throws the distribution off a bit, but the rest follows a normal distribution fairly closely.\n",
    "\n",
    "To get a more precise picture, we might want to plot the density curves of these value sets. We can also divide them into separate groups based on another column.\n",
    "\n",
    "First, let's plot the age density curves for those who survived and died."
   ]
  },
  {
   "cell_type": "code",
   "execution_count": null,
   "metadata": {
    "collapsed": false
   },
   "outputs": [],
   "source": [
    "density(titanic_clean, :Age, groups=:Survived, linecolor=:auto, linewidth=3)"
   ]
  },
  {
   "cell_type": "markdown",
   "metadata": {},
   "source": [
    "Interesting! Notice that the bump we saw in the histogram above is only there for the surviving density curve. The density curve for those who died is a much more normal looking distribution. If you were really young, you had a much better chance of surviving, likely by getting first priority on the lifeboats.\n",
    "\n",
    "Notice how the distribution for those how died peaks a little to the left of those who survived. So, if you were slightly younger than the average age of passengers, you were a little more likely to have bad luck on the Titanic.\n",
    "\n",
    "Let's look at the density curves of ages divided into the female and male populations. This is the same division of data we used in our first boxplot above, but it helps us notice some new things. First, it looks like, while there were more male passengers overall, there were more female children than male children. There were more males than females at the average age, and as age increased, the male/female numbers tended to be fairly similar, right up to the oldest, where we tend to see more males again. We noticed that last one via the outliers on the boxplot."
   ]
  },
  {
   "cell_type": "code",
   "execution_count": null,
   "metadata": {
    "collapsed": false
   },
   "outputs": [],
   "source": [
    "density(titanic_clean, :Age, groups=:Sex, linecolor=:auto, linewidth=3)"
   ]
  },
  {
   "cell_type": "markdown",
   "metadata": {},
   "source": [
    "# Imputing data\n",
    "\n",
    "Now that we know more about the **Age** column, we can look at filling in the `NA` values instead of throwing out the rows.\n",
    "\n",
    "Probably the most important thing we discovered about the **Age** column is that the values in it are, for the most part, normally distributed. This means that 68% of ages should be within 1 standard deviation of the mean and 95% within 2 standard deviations. In other words, filling in `NA` with the mean of non-`NA` ages would be a decent guess. It's also a guess that would not distort the distribution of known values."
   ]
  },
  {
   "cell_type": "code",
   "execution_count": null,
   "metadata": {
    "collapsed": false
   },
   "outputs": [],
   "source": [
    "# Re-initialize the cleaned DataFrame to get back the rows that had\n",
    "# NA values for Age\n",
    "titanic_clean = deepcopy(titanic)\n",
    "embarked_mode = mode(dropna(titanic_clean[:Embarked]))\n",
    "titanic_clean[isna(titanic_clean[:Embarked]),:Embarked] = embarked_mode\n",
    "\n",
    "age_mean = mean(titanic_clean[:Age],skipna=true)\n",
    "titanic_clean[isna(titanic_clean[:Age]), :Age] = age_mean"
   ]
  },
  {
   "cell_type": "markdown",
   "metadata": {},
   "source": [
    "# Feature engineering"
   ]
  },
  {
   "cell_type": "markdown",
   "metadata": {},
   "source": [
    "Let's create a brand new column to indicate whether a passenger is a child or adult, based on where we see that bump. This is called \"feature engineering\", and we'll be doing more of it when we dive into using some machine learning algorithms. It looks like that bump occurs around 13 years old, so we'll make that the cutoff for whether or not we classify the passenger as a child.\n",
    "\n",
    "We'll use *Julia's* `map` function along with our `to_enum` function to accomplish this. Like many functional languages, Julia allows you to pass functions as parameters to other functions, but it also adds some syntactical sugar in special cases. When the *first* parameter of a function is another function, you can call the former by using a `do..end` block and omitting the first parameter. That `do..end` block is actually an anonymous function, but using it this way can make code easier to read. We do this with the `map` function below."
   ]
  },
  {
   "cell_type": "code",
   "execution_count": null,
   "metadata": {
    "collapsed": false
   },
   "outputs": [],
   "source": [
    "@enum ChildType Child=0 Adult=1\n",
    "\n",
    "titanic_clean[:Child] = to_enum(ChildType, map(titanic_clean[:Age]) do x\n",
    "  if isna(x)\n",
    "    NA\n",
    "  elseif x < 13\n",
    "    Child\n",
    "  else\n",
    "    Adult\n",
    "  end\n",
    "end)"
   ]
  },
  {
   "cell_type": "markdown",
   "metadata": {},
   "source": [
    "We could have accomplished the same thing by defining our classification function separately and passing it into the `map` function, like this:\n",
    "\n",
    "```\n",
    "function classify_by_age(x)\n",
    "  if isna(x)\n",
    "    NA\n",
    "  elseif x < 13\n",
    "    Child\n",
    "  else\n",
    "    Adult\n",
    "  end\n",
    "end\n",
    "\n",
    "titanic[:Child] = to_enum(ChildType, map(classify_by_age, titanic[:Age]))\n",
    "```"
   ]
  },
  {
   "cell_type": "markdown",
   "metadata": {},
   "source": [
    "Finally, let's make a grid of boxplots to represent the various subsets of our data. This exists in *R's* `ggplot` library, using a `facet_grid` function while constructing the plot. We couldn't find anything like it in *Julia's* various plotting libraries, but we know it can do boxplots, and we know it can do grids of plots, and that's all *R's* facet grid of boxplots is really doing. The JuliaPlots ecosystem provides some macros and recipes for creating more complex plots, and we used that. If you're interested, you can find it in *src/lib/CustomPlots.jl*, but for now, let's just see what we get... "
   ]
  },
  {
   "cell_type": "code",
   "execution_count": null,
   "metadata": {
    "collapsed": false,
    "scrolled": true
   },
   "outputs": [],
   "source": [
    "import CustomPlots\n",
    "\n",
    "CustomPlots.facetgridbox(titanic_clean, :Fare, xsplit=:Survived, ysplit=:Sex, boxsplit=:Child)"
   ]
  },
  {
   "cell_type": "markdown",
   "metadata": {},
   "source": [
    "# Exercises"
   ]
  },
  {
   "cell_type": "markdown",
   "metadata": {},
   "source": [
    "**1.** Did we make the right decision when filling in our `NA` **Embarked** values with \"S\" for *Southampton*? Is it possible there's a 4th or 5th point of embarkment? Is there any information you might be able to use to find out the actual location? You could also create an *\"Unknown\"* **Embarkment** value and replace the `NA` values with that. What problems could that create that using *\"Southampton\"* would not when using machine learning algorithms to predict survival?\n",
    "\n",
    "Hint: *titanic* still has the version of the DataFrame with the *NA* values. How might you look at just those passengers?"
   ]
  },
  {
   "cell_type": "code",
   "execution_count": null,
   "metadata": {
    "collapsed": false
   },
   "outputs": [],
   "source": []
  },
  {
   "cell_type": "markdown",
   "metadata": {},
   "source": [
    "**2.** While the mean of all the ages is a pretty good guess for `NA` values, could we do better? Were there any differences between means of certain subgroups?"
   ]
  },
  {
   "cell_type": "code",
   "execution_count": null,
   "metadata": {
    "collapsed": true
   },
   "outputs": [],
   "source": []
  },
  {
   "cell_type": "markdown",
   "metadata": {},
   "source": [
    "**3.** Bin size is important when using histograms. Experiment with different bin sizes. What are some problems with bin sizes that are too small? What are some problems with bin sizes that are too large? "
   ]
  },
  {
   "cell_type": "code",
   "execution_count": null,
   "metadata": {
    "collapsed": false
   },
   "outputs": [],
   "source": [
    "binsize = 1\n",
    "histogram(titanic_clean[:Age], xlabel=\"Distribution of Age\", ylabel=\"Frequency of Bucket\", \n",
    "title=\"Distribution of Passenger Ages on Titanic\",bins=0:binsize:maximum(titanic_clean[:Age]))"
   ]
  },
  {
   "cell_type": "markdown",
   "metadata": {},
   "source": [
    "**4.** Any other aspects of the data you'd like to explore?"
   ]
  },
  {
   "cell_type": "code",
   "execution_count": null,
   "metadata": {
    "collapsed": true
   },
   "outputs": [],
   "source": []
  }
 ],
 "metadata": {
  "kernelspec": {
   "display_name": "Julia 0.5.0",
   "language": "julia",
   "name": "julia-0.5"
  },
  "language_info": {
   "file_extension": ".jl",
   "mimetype": "application/julia",
   "name": "julia",
   "version": "0.5.0"
  }
 },
 "nbformat": 4,
 "nbformat_minor": 0
}
