{
 "cells": [
  {
   "cell_type": "markdown",
   "metadata": {},
   "source": [
    "### Instructions\n",
    "\n",
    "1. Enter the username and password you were given for \"OS_USERNAME\" and \"OS_PASSWORD\".\n",
    "2. Run each cell (via either the \"play\" button on the toolbar or shift-Enter on the keyboard) and **wait** to see output.\n",
    "3. Once the cell produces output, you can run the next, which should already be highlighted.\n",
    "4. When you reach the end, remove the \"OS_USERNAME\" and \"OS_PASSWORD\" you entered in step 1, select `File` **->** `Download as` **->** `HTML`\n",
    "5. Send us the HTML file.\n",
    "\n",
    "### Notes:\n",
    "\n",
    "- Some commands are duplicated. This is on purpose. We want to see the difference between the first and subsequent runs.\n",
    "- Feel free to pause longer than just waiting for the output on some items. As long as you finish this exercise in under 20 minutes, it should give us a good enough idea of how it will operate in the workshop.\n",
    "- Please make a special note any section where it takes longer than 30-40 seconds (ballpark) to complete. Nothing should take that long.\n",
    "- If you run into any errors that prevent you from successfully running a block, please call one of us to look at it right away."
   ]
  },
  {
   "cell_type": "code",
   "execution_count": null,
   "metadata": {
    "collapsed": false
   },
   "outputs": [],
   "source": [
    "ENV[\"OS_AUTH_URL\"]=\"https://keystone-yeg.cloud.cybera.ca:5000/v2.0\"\n",
    "ENV[\"OS_TENANT_NAME\"]=\"julia_workshop\"\n",
    "ENV[\"OS_PROJECT_NAME\"]=\"julia_workshop\"\n",
    "ENV[\"OS_USERNAME\"]=\"\"\n",
    "ENV[\"OS_PASSWORD\"]=\"\"\n",
    "\n",
    "@time include(joinpath(\"..\", \"src\", \"lib\", \"Config.jl\"))\n",
    "\n",
    "println(\"Success! (Warnings are normal in this section.)\")"
   ]
  },
  {
   "cell_type": "code",
   "execution_count": null,
   "metadata": {
    "collapsed": false
   },
   "outputs": [],
   "source": [
    "@time Dataset.list()"
   ]
  },
  {
   "cell_type": "code",
   "execution_count": null,
   "metadata": {
    "collapsed": false
   },
   "outputs": [],
   "source": [
    "@time Dataset.list()"
   ]
  },
  {
   "cell_type": "code",
   "execution_count": null,
   "metadata": {
    "collapsed": false
   },
   "outputs": [],
   "source": [
    "@time titanic = Dataset.fetch(:titanic)"
   ]
  },
  {
   "cell_type": "code",
   "execution_count": null,
   "metadata": {
    "collapsed": false
   },
   "outputs": [],
   "source": [
    "@time titanic = Dataset.fetch(:titanic)"
   ]
  },
  {
   "cell_type": "code",
   "execution_count": null,
   "metadata": {
    "collapsed": false
   },
   "outputs": [],
   "source": [
    "@time using FreqTables\n",
    "@time using Titanic\n",
    "\n",
    "@time freqtable(titanic[:Survived])"
   ]
  },
  {
   "cell_type": "code",
   "execution_count": null,
   "metadata": {
    "collapsed": false
   },
   "outputs": [],
   "source": [
    "@time freqtable(titanic, :Sex, :Survived)"
   ]
  },
  {
   "cell_type": "code",
   "execution_count": null,
   "metadata": {
    "collapsed": false
   },
   "outputs": [],
   "source": [
    "@enum SurvivedType Dead=0 Survived=1\n",
    "@time titanic[:Survived] = to_enum(SurvivedType, titanic[:Survived])\n",
    "@time pool!(titanic, [:Sex, :Survived])\n",
    "@time levels(titanic[:Survived])"
   ]
  },
  {
   "cell_type": "code",
   "execution_count": null,
   "metadata": {
    "collapsed": false
   },
   "outputs": [],
   "source": [
    "@time freqtable(titanic, :Sex, :Survived)"
   ]
  },
  {
   "cell_type": "code",
   "execution_count": null,
   "metadata": {
    "collapsed": false
   },
   "outputs": [],
   "source": [
    "@time using StatPlots\n",
    "@time pyplot()\n",
    "@time pie([\"Female\", \"Male\"], freqtable(titanic, :Sex))"
   ]
  },
  {
   "cell_type": "markdown",
   "metadata": {},
   "source": [
    "**Wait for the plot to appear**"
   ]
  },
  {
   "cell_type": "code",
   "execution_count": null,
   "metadata": {
    "collapsed": false
   },
   "outputs": [],
   "source": [
    "@time pie([\"Dead\", \"Survived\"],freqtable(titanic, :Survived))"
   ]
  },
  {
   "cell_type": "markdown",
   "metadata": {},
   "source": [
    "**Wait for the plot to appear**"
   ]
  },
  {
   "cell_type": "code",
   "execution_count": null,
   "metadata": {
    "collapsed": false
   },
   "outputs": [],
   "source": [
    "titanic_clean = titanic\n",
    "@time titanic_clean = titanic_clean[~isna(titanic_clean[:Age]),:]\n",
    "@time titanic_clean = titanic_clean[~isna(titanic_clean[:Sex]),:]\n",
    "@time titanic_clean = titanic_clean[~isna(titanic_clean[:Survived]),:]\n",
    "\n",
    "@time boxplot(titanic_clean, :Sex, :Age, title=\"Age Distribution by Gender\", notch=true)"
   ]
  },
  {
   "cell_type": "markdown",
   "metadata": {},
   "source": [
    "**Wait for the plot to appear**"
   ]
  },
  {
   "cell_type": "code",
   "execution_count": null,
   "metadata": {
    "collapsed": true
   },
   "outputs": [],
   "source": []
  },
  {
   "cell_type": "markdown",
   "metadata": {},
   "source": [
    "Please add any general comments below. Anything out of the ordinary? Anything hang for too long?"
   ]
  },
  {
   "cell_type": "markdown",
   "metadata": {},
   "source": []
  },
  {
   "cell_type": "markdown",
   "metadata": {},
   "source": [
    "**FINISHED!**\n",
    "\n",
    "Remember to download an HTML version of this page (please remove the \"OS_USERNAME\" and \"OS_PASSWORD\" first) and send it to us. Please **DO NOT** clear any output. That's what we're interested in!"
   ]
  }
 ],
 "metadata": {
  "kernelspec": {
   "display_name": "Julia 0.5.0",
   "language": "julia",
   "name": "julia-0.5"
  },
  "language_info": {
   "file_extension": ".jl",
   "mimetype": "application/julia",
   "name": "julia",
   "version": "0.5.0"
  }
 },
 "nbformat": 4,
 "nbformat_minor": 1
}
