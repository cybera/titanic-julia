{
 "cells": [
  {
   "cell_type": "markdown",
   "metadata": {},
   "source": [
    "## Setting Up Your Environment"
   ]
  },
  {
   "cell_type": "code",
   "execution_count": null,
   "metadata": {
    "collapsed": false,
    "scrolled": true
   },
   "outputs": [],
   "source": [
    "ENV[\"OS_AUTH_URL\"]=\"https://keystone-yeg.cloud.cybera.ca:5000/v2.0\"\n",
    "ENV[\"OS_TENANT_NAME\"]=\"julia_workshop\"\n",
    "ENV[\"OS_PROJECT_NAME\"]=\"julia_workshop\"\n",
    "ENV[\"OS_USERNAME\"]=\"julia_workshop\"\n",
    "ENV[\"OS_PASSWORD\"]=\"Y2RhM2Ni\"\n",
    "\n",
    "include(joinpath(\"..\", \"src\", \"lib\", \"Config.jl\"))"
   ]
  },
  {
   "cell_type": "markdown",
   "metadata": {},
   "source": [
    "## Get dataset"
   ]
  },
  {
   "cell_type": "code",
   "execution_count": null,
   "metadata": {
    "collapsed": false
   },
   "outputs": [],
   "source": [
    "titanic_data = Dataset.fetch(:titanic)"
   ]
  },
  {
   "cell_type": "markdown",
   "metadata": {},
   "source": [
    "## Load Modules"
   ]
  },
  {
   "cell_type": "code",
   "execution_count": null,
   "metadata": {
    "collapsed": false
   },
   "outputs": [],
   "source": [
    "using DataFrames\n",
    "Pkg.add(\"DecisionTree\")\n",
    "using DecisionTree\n",
    "using FreqTables\n",
    "using StatsBase\n",
    "using Titanic"
   ]
  },
  {
   "cell_type": "markdown",
   "metadata": {},
   "source": [
    "## Predictive Modeling: Data Preparation\n",
    "### Cleaning your Data"
   ]
  },
  {
   "cell_type": "code",
   "execution_count": null,
   "metadata": {
    "collapsed": false,
    "scrolled": true
   },
   "outputs": [],
   "source": [
    "describe(titanic_data)"
   ]
  },
  {
   "cell_type": "markdown",
   "metadata": {},
   "source": [
    "### Delete unused columns\n",
    "Remove PassengerID, Name, Ticket, and Cabin attributes."
   ]
  },
  {
   "cell_type": "code",
   "execution_count": null,
   "metadata": {
    "collapsed": false
   },
   "outputs": [],
   "source": [
    "titanic_data_clean = delete!(titanic_data,[1,4,9,11])\n",
    "names(titanic_data_clean)"
   ]
  },
  {
   "cell_type": "markdown",
   "metadata": {},
   "source": [
    "#### Dealing with missing values\n",
    "Age: replace NA values with the mean age and a comment about performance."
   ]
  },
  {
   "cell_type": "code",
   "execution_count": null,
   "metadata": {
    "collapsed": false
   },
   "outputs": [],
   "source": [
    "@time mean(titanic_data_clean[:Age],skipna=true)"
   ]
  },
  {
   "cell_type": "code",
   "execution_count": null,
   "metadata": {
    "collapsed": false
   },
   "outputs": [],
   "source": [
    "@time mean(dropna(titanic_data_clean[:Age]))"
   ]
  },
  {
   "cell_type": "code",
   "execution_count": null,
   "metadata": {
    "collapsed": false
   },
   "outputs": [],
   "source": [
    "@time mean(titanic_data_clean[!isna(titanic_data_clean[:Age]),:Age])"
   ]
  },
  {
   "cell_type": "code",
   "execution_count": null,
   "metadata": {
    "collapsed": false
   },
   "outputs": [],
   "source": [
    "@time mean(titanic_data_clean[!isna(titanic_data_clean[:Age]),:][:Age])"
   ]
  },
  {
   "cell_type": "code",
   "execution_count": null,
   "metadata": {
    "collapsed": false
   },
   "outputs": [],
   "source": [
    "titanic_data_clean[isna(titanic_data_clean[:Age]), :Age] = mean(titanic_data_clean[:Age],skipna=true)"
   ]
  },
  {
   "cell_type": "markdown",
   "metadata": {},
   "source": [
    "Embarked: replace NA values with the most frequent values."
   ]
  },
  {
   "cell_type": "code",
   "execution_count": null,
   "metadata": {
    "collapsed": false
   },
   "outputs": [],
   "source": [
    "countmap(titanic_data_clean[:Embarked])"
   ]
  },
  {
   "cell_type": "code",
   "execution_count": null,
   "metadata": {
    "collapsed": false
   },
   "outputs": [],
   "source": [
    "titanic_data_clean[isna(titanic_data_clean[:Embarked]),:Embarked] = \"S\""
   ]
  },
  {
   "cell_type": "code",
   "execution_count": null,
   "metadata": {
    "collapsed": false
   },
   "outputs": [],
   "source": [
    "describe(titanic_data_clean)"
   ]
  },
  {
   "cell_type": "markdown",
   "metadata": {},
   "source": [
    "### Feature engineering\n",
    "The term Feature Engineering refers to the creation of value-added data from your data sources that will be fed into your machine learning algorithm for development of your predictive model."
   ]
  },
  {
   "cell_type": "code",
   "execution_count": null,
   "metadata": {
    "collapsed": false
   },
   "outputs": [],
   "source": [
    "@enum ChildType Child=0 Adult=1\n",
    "\n",
    "titanic_data_clean[:Child] = to_enum(ChildType, map(titanic_data_clean[:Age]) do x\n",
    "  if isna(x)\n",
    "    NA\n",
    "  elseif x < 13\n",
    "    Child\n",
    "  else\n",
    "    Adult\n",
    "  end\n",
    "end)\n",
    "head(titanic_data_clean,20)"
   ]
  },
  {
   "cell_type": "markdown",
   "metadata": {},
   "source": [
    "### Holdout dataset\n",
    "Split your dataset: 2/3rds for testing and 1/3rd for training."
   ]
  },
  {
   "cell_type": "code",
   "execution_count": null,
   "metadata": {
    "collapsed": false
   },
   "outputs": [],
   "source": [
    "nrow(titanic_data_clean)"
   ]
  },
  {
   "cell_type": "code",
   "execution_count": null,
   "metadata": {
    "collapsed": true
   },
   "outputs": [],
   "source": [
    "training_size = convert(Integer,round(nrow(titanic_data_clean)*0.66))\n",
    "all_titanic_index = 1:nrow(titanic_data_clean)\n",
    "titanic_train_index = sample(all_titanic_index,training_size,replace=false)\n",
    "titanic_train = titanic_data_clean[titanic_train_index,:]\n",
    "nrow(titanic_train)"
   ]
  },
  {
   "cell_type": "code",
   "execution_count": null,
   "metadata": {
    "collapsed": true
   },
   "outputs": [],
   "source": [
    "titanic_test_index = setdiff(all_titanic_index, titanic_train_index)\n",
    "titanic_test = titanic_data_clean[titanic_test_index,:]\n",
    "nrow(titanic_test)"
   ]
  },
  {
   "cell_type": "markdown",
   "metadata": {},
   "source": [
    "### Convert data\n",
    "For the DecisionTree package, the input data must be converted to arrays."
   ]
  },
  {
   "cell_type": "code",
   "execution_count": null,
   "metadata": {
    "collapsed": true
   },
   "outputs": [],
   "source": [
    "train_array_survived = convert(Array{Int64,1},titanic_train[:Survived])\n",
    "train_array = convert(Array,titanic_train[:,[2,3,4,5,6,7,8,9]])\n",
    "test_array  = convert(Array,titanic_test)"
   ]
  },
  {
   "cell_type": "markdown",
   "metadata": {},
   "source": [
    "## Build a predictive model\n",
    "### Decision Tree example"
   ]
  },
  {
   "cell_type": "code",
   "execution_count": null,
   "metadata": {
    "collapsed": true
   },
   "outputs": [],
   "source": [
    "dt_model = build_tree(train_array_survived, train_array)\n",
    "dt_model"
   ]
  },
  {
   "cell_type": "code",
   "execution_count": null,
   "metadata": {
    "collapsed": true
   },
   "outputs": [],
   "source": [
    "print_tree(dt_model,4)"
   ]
  },
  {
   "cell_type": "markdown",
   "metadata": {},
   "source": [
    "### Random Forest classification model\n",
    "Train random forest with 3 for number of features chosen at each random split (n<sub>features</sub>)<sup>0.5</sup>, 100 for number of trees, and 1.0 for ratio of subsampling."
   ]
  },
  {
   "cell_type": "code",
   "execution_count": null,
   "metadata": {
    "collapsed": true
   },
   "outputs": [],
   "source": [
    "rf_model = build_forest(train_array_survived, train_array, 3, 100, 1.0)\n",
    "rf_model"
   ]
  },
  {
   "cell_type": "markdown",
   "metadata": {},
   "source": [
    "## Evaluate your predictive model\n",
    "### Cross-validation for evaluating a classifier model's performance\n",
    "Run n-fold cross validation: the inputs are labels, features, nsubfeatures, ntrees, nfolds, partialsampling.\n",
    "Where n-fold refers to the number of subsets the data gets broken down into and where each n will be used as a test set with the remaining data being used as training data."
   ]
  },
  {
   "cell_type": "code",
   "execution_count": null,
   "metadata": {
    "collapsed": true
   },
   "outputs": [],
   "source": [
    "accuracy = nfoldCV_forest(train_array_survived, train_array, 3, 50, 5, 1.0)\n",
    "accuracy\n",
    "mean(accuracy)"
   ]
  },
  {
   "cell_type": "markdown",
   "metadata": {},
   "source": [
    "## Apply your predictive model\n",
    "### Use your predictive model with your holdout test data"
   ]
  },
  {
   "cell_type": "code",
   "execution_count": null,
   "metadata": {
    "collapsed": true
   },
   "outputs": [],
   "source": [
    "test_array_predict = convert(Array{Int64,1},apply_forest(rf_model, test_array))"
   ]
  },
  {
   "cell_type": "markdown",
   "metadata": {},
   "source": [
    "### Evaluate your predicted results\n",
    "#### Confusion matrix\n",
    "Use a confusion matrix to examine actual vs predicted results and calculate summary statistics.\n",
    "#### Where:\n",
    "Accuracy = (TP+TN)/(TP+TN+FP+FN)\n",
    "Kappa Statistic compares the accuracy of the system to the accuracy of a random system (normalized between 0 and 1).\n",
    "Kappa is between normalized (between 0 and 1)\n",
    "Kappa = (Accuracy-randomAccuracy)/(1-randomAccuracy)\n",
    "randomAccuracy = (TN+FP)\\*(TN+FN)+(FN+TP)\\*(FP+TP)/(total\\*\\total)"
   ]
  },
  {
   "cell_type": "code",
   "execution_count": null,
   "metadata": {
    "collapsed": true
   },
   "outputs": [],
   "source": [
    "CM = confusion_matrix(test_labels_actual,test_labels_predict)\n",
    "CM"
   ]
  },
  {
   "cell_type": "markdown",
   "metadata": {},
   "source": [
    "#### Precision\n",
    "Calculate a precision metric, in which a high precision model means that there are few false positives."
   ]
  },
  {
   "cell_type": "code",
   "execution_count": null,
   "metadata": {
    "collapsed": true
   },
   "outputs": [],
   "source": [
    "precision_metric = CM.matrix[1]/sum(CM.matrix[:,1])\n",
    "precision_metric"
   ]
  },
  {
   "cell_type": "markdown",
   "metadata": {},
   "source": [
    "#### Recall\n",
    "Calculate a recall metric, in which a high recall classifier model means there are few false negatives."
   ]
  },
  {
   "cell_type": "code",
   "execution_count": null,
   "metadata": {
    "collapsed": true
   },
   "outputs": [],
   "source": [
    "recall_metric = CM.matrix[1]/sum(CM.matrix[1,:])\n",
    "recall_metric"
   ]
  },
  {
   "cell_type": "markdown",
   "metadata": {},
   "source": [
    "#### F1 Score\n",
    "Calculate an F-measure, in which a high F-measure classifier model is biased towards all actual and predicted positives."
   ]
  },
  {
   "cell_type": "code",
   "execution_count": null,
   "metadata": {
    "collapsed": true
   },
   "outputs": [],
   "source": [
    "f1_metric = 2*CM.matrix[1]/(2*CM.matrix[1]+CM.matrix[1,2]+CM.matrix[2,1])\n",
    "f1_metric"
   ]
  },
  {
   "cell_type": "markdown",
   "metadata": {},
   "source": []
  }
 ],
 "metadata": {
  "kernelspec": {
   "display_name": "Julia 0.5.0",
   "language": "julia",
   "name": "julia-0.5"
  },
  "language_info": {
   "file_extension": ".jl",
   "mimetype": "application/julia",
   "name": "julia",
   "version": "0.5.0"
  }
 },
 "nbformat": 4,
 "nbformat_minor": 1
}
