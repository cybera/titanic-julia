{
 "cells": [
  {
   "cell_type": "markdown",
   "metadata": {},
   "source": [
    "## Setting Up Your Environment"
   ]
  },
  {
   "cell_type": "code",
   "execution_count": null,
   "metadata": {
    "collapsed": false,
    "scrolled": true
   },
   "outputs": [],
   "source": [
    "ENV[\"OS_AUTH_URL\"]=\"https://keystone-yeg.cloud.cybera.ca:5000/v2.0\"\n",
    "ENV[\"OS_TENANT_NAME\"]=\"julia_workshop\"\n",
    "ENV[\"OS_PROJECT_NAME\"]=\"julia_workshop\"\n",
    "ENV[\"OS_USERNAME\"]=\"\"\n",
    "ENV[\"OS_PASSWORD\"]=\"\"\n",
    "\n",
    "include(joinpath(\"..\", \"src\", \"lib\", \"Config.jl\"))"
   ]
  },
  {
   "cell_type": "markdown",
   "metadata": {},
   "source": [
    "## Get dataset"
   ]
  },
  {
   "cell_type": "code",
   "execution_count": null,
   "metadata": {
    "collapsed": false
   },
   "outputs": [],
   "source": [
    "titanic_data_clean = Dataset.fetch(:titanic_clean)"
   ]
  },
  {
   "cell_type": "markdown",
   "metadata": {},
   "source": [
    "## Load Modules"
   ]
  },
  {
   "cell_type": "code",
   "execution_count": null,
   "metadata": {
    "collapsed": false
   },
   "outputs": [],
   "source": [
    "using DataFrames\n",
    "using DecisionTree\n",
    "using FreqTables\n",
    "using StatsBase\n",
    "using Titanic"
   ]
  },
  {
   "cell_type": "markdown",
   "metadata": {},
   "source": [
    "## Predictive Modeling: Data Preparation\n",
    "### Cleaning your Data"
   ]
  },
  {
   "cell_type": "code",
   "execution_count": null,
   "metadata": {
    "collapsed": false,
    "scrolled": true
   },
   "outputs": [],
   "source": [
    "describe(titanic_data)"
   ]
  },
  {
   "cell_type": "markdown",
   "metadata": {},
   "source": [
    "### Delete unused columns\n",
    "Remove PassengerID, Name, Ticket, and Cabin attributes."
   ]
  },
  {
   "cell_type": "code",
   "execution_count": null,
   "metadata": {
    "collapsed": false
   },
   "outputs": [],
   "source": [
    "delete!(titanic_data_clean, [:PassengerId,:Name,:Ticket,:Cabin])\n",
    "names(titanic_data_clean)"
   ]
  },
  {
   "cell_type": "markdown",
   "metadata": {},
   "source": [
    "### Now at this point you could do some Feature Engineering to add value (i.e. columns) to your dataset. Please see the homework excercise at the bottom of the notebook to test your skills."
   ]
  },
  {
   "cell_type": "markdown",
   "metadata": {},
   "source": [
    "### Holdout dataset\n",
    "Split your dataset: 2/3rds for testing and 1/3rd for training."
   ]
  },
  {
   "cell_type": "code",
   "execution_count": null,
   "metadata": {
    "collapsed": false
   },
   "outputs": [],
   "source": [
    "nrow(titanic_data_clean)"
   ]
  },
  {
   "cell_type": "code",
   "execution_count": null,
   "metadata": {
    "collapsed": false
   },
   "outputs": [],
   "source": [
    "training_size = convert(Integer,round(nrow(titanic_data_clean)*0.66))\n",
    "all_titanic_index = 1:nrow(titanic_data_clean)\n",
    "titanic_train_index = sample(all_titanic_index,training_size,replace=false)\n",
    "titanic_train = titanic_data_clean[titanic_train_index,:]\n",
    "nrow(titanic_train)"
   ]
  },
  {
   "cell_type": "code",
   "execution_count": null,
   "metadata": {
    "collapsed": false
   },
   "outputs": [],
   "source": [
    "titanic_test_index = setdiff(all_titanic_index, titanic_train_index)\n",
    "titanic_test = titanic_data_clean[titanic_test_index,:]\n",
    "nrow(titanic_test)"
   ]
  },
  {
   "cell_type": "markdown",
   "metadata": {},
   "source": [
    "### Convert data\n",
    "For the DecisionTree package, the input data must be converted to arrays."
   ]
  },
  {
   "cell_type": "code",
   "execution_count": null,
   "metadata": {
    "collapsed": false
   },
   "outputs": [],
   "source": [
    "train_array_survived = convert(Array,titanic_train[:Survived])\n",
    "train_array = convert(Array,titanic_train[:,[2,3,4,5,6,7,8]])"
   ]
  },
  {
   "cell_type": "code",
   "execution_count": null,
   "metadata": {
    "collapsed": false
   },
   "outputs": [],
   "source": [
    "test_array_survived = convert(Array,titanic_test[:Survived])\n",
    "test_array = convert(Array{Any},titanic_test[:,[2,3,4,5,6,7,8]])"
   ]
  },
  {
   "cell_type": "markdown",
   "metadata": {},
   "source": [
    "## Build a predictive model\n",
    "### Decision Tree example"
   ]
  },
  {
   "cell_type": "code",
   "execution_count": null,
   "metadata": {
    "collapsed": false
   },
   "outputs": [],
   "source": [
    "dt_model = build_tree(train_array_survived, train_array)\n",
    "dt_model"
   ]
  },
  {
   "cell_type": "code",
   "execution_count": null,
   "metadata": {
    "collapsed": false
   },
   "outputs": [],
   "source": [
    "print_tree(dt_model,4)"
   ]
  },
  {
   "cell_type": "markdown",
   "metadata": {},
   "source": [
    "### Random Forest classification model\n",
    "Train random forest with 3 for number of features chosen at each random split (n<sub>features</sub>)<sup>0.5</sup>, 100 for number of trees, and 1.0 for ratio of subsampling."
   ]
  },
  {
   "cell_type": "code",
   "execution_count": null,
   "metadata": {
    "collapsed": false
   },
   "outputs": [],
   "source": [
    "rf_model = build_forest(train_array_survived, train_array, 3, 100, 1.0)\n",
    "rf_model"
   ]
  },
  {
   "cell_type": "markdown",
   "metadata": {},
   "source": [
    "## Evaluate your predictive model\n",
    "### Cross-validation for evaluating a classifier model's performance\n",
    "Run n-fold cross validation: the inputs are labels, features, n_randomfeatures, n_trees, n_folds, partialsampling (optional).\n",
    "Where n-folds refers to the number of subsets the data gets broken down into and where each n will be used as a test set with the remaining data being used as training data.\n",
    "\n",
    "#### Cross Validation Results\n",
    "`Accuracy = (TP+TN)/(TP+TN+FP+FN)`\n",
    "\n",
    "Kappa Statistic compares the accuracy of the system to the accuracy of a random system (between 0 and 1).\n",
    "\n",
    "`Kappa = (Accuracy-randomAccuracy)/(1-randomAccuracy)`\n",
    "\n",
    "`randomAccuracy = ((TN+FP)*(TN+FN)+(FN+TP)*(FP+TP))/(TP+FP+TN+FN)`"
   ]
  },
  {
   "cell_type": "code",
   "execution_count": null,
   "metadata": {
    "collapsed": false
   },
   "outputs": [],
   "source": [
    "nfoldCV_tree(train_array_survived, train_array, 3, 4)"
   ]
  },
  {
   "cell_type": "code",
   "execution_count": null,
   "metadata": {
    "collapsed": false
   },
   "outputs": [],
   "source": [
    "nfoldCV_forest(train_array_survived, train_array, 3, 50, 4)"
   ]
  },
  {
   "cell_type": "markdown",
   "metadata": {},
   "source": [
    "### Compare cross-validation results\n",
    "Note: these are sample results for explanatory purposes only."
   ]
  },
  {
   "cell_type": "markdown",
   "metadata": {},
   "source": [
    "#### Accuracy\n",
    "```\n",
    "|---------|-------|-------|-------|-------|\n",
    "| CV Fold |  DT   | RF    | RF2   | RF3   |\n",
    "|---------|-------|-------|-------|-------|\n",
    "|    1    | 0.721 | 0.816 | 0.501 | 0.901 | \n",
    "|---------|-------|-------|-------|-------|\n",
    "|    2    | 0.748 | 0.830 | 0.502 | 0.851 |\n",
    "|---------|-------|-------|-------|-------|\n",
    "|    3    | 0.796 | 0.837 | 0.503 | 0.721 |\n",
    "|---------|-------|-------|-------|-------|\n",
    "|    4    | 0.741 | 0.864 | 0.504 | 0.805 |\n",
    "|---------|-------|-------|-------|-------|\n",
    "|   Mean  | 0.752 | 0.837 | 0.503 | 0.820 |\n",
    "|---------|-------|-------|-------|-------|\n",
    "|    SD   | 0.032 | 0.020 | 0.001 | 0.076 |\n",
    "|---------|-------|-------|-------|-------|\n",
    "```\n"
   ]
  },
  {
   "cell_type": "markdown",
   "metadata": {},
   "source": [
    "## Apply your predictive model\n",
    "### Use your predictive model with your holdout test data"
   ]
  },
  {
   "cell_type": "code",
   "execution_count": null,
   "metadata": {
    "collapsed": false
   },
   "outputs": [],
   "source": [
    "test_array_predict = convert(Array{Int64,1},apply_forest(rf_model,test_array))"
   ]
  },
  {
   "cell_type": "markdown",
   "metadata": {},
   "source": [
    "### Evaluate your predicted results\n",
    "#### Confusion matrix\n",
    "Use a confusion matrix to examine actual vs predicted results and calculate summary statistics.\n",
    "\n",
    "```\n",
    "|---------------|---------------|---------------|\n",
    "|               | Predicted Yes | Predicted No  |\n",
    "|---------------|---------------|---------------|\n",
    "|   Actual Yes  |       TP      |      FN       | \n",
    "|---------------|---------------|---------------|\n",
    "|   Actual No   |       FP      |      TN       |\n",
    "|---------------|---------------|---------------|\n",
    "```"
   ]
  },
  {
   "cell_type": "code",
   "execution_count": null,
   "metadata": {
    "collapsed": false
   },
   "outputs": [],
   "source": [
    "CM = confusion_matrix(test_array_survived,test_array_predict)\n",
    "CM"
   ]
  },
  {
   "cell_type": "markdown",
   "metadata": {},
   "source": [
    "## Other Metrics to Evaluate Your Model"
   ]
  },
  {
   "cell_type": "markdown",
   "metadata": {},
   "source": [
    "#### Precision\n",
    "Calculate a precision metric, in which a high precision model means that there are few false positives.\n",
    "\n",
    "`Precision = TP/(TP+FP)`"
   ]
  },
  {
   "cell_type": "code",
   "execution_count": null,
   "metadata": {
    "collapsed": false
   },
   "outputs": [],
   "source": [
    "precision_metric = CM.matrix[1]/sum(CM.matrix[:,1])\n",
    "precision_metric"
   ]
  },
  {
   "cell_type": "markdown",
   "metadata": {},
   "source": [
    "#### Recall\n",
    "Calculate a recall metric, in which a high recall model means there are few false negatives.\n",
    "\n",
    "`Recall = TP/(TP+FN)`"
   ]
  },
  {
   "cell_type": "code",
   "execution_count": null,
   "metadata": {
    "collapsed": false
   },
   "outputs": [],
   "source": [
    "recall_metric = CM.matrix[1]/sum(CM.matrix[1,:])\n",
    "recall_metric"
   ]
  },
  {
   "cell_type": "markdown",
   "metadata": {},
   "source": [
    "#### F1 Score\n",
    "Calculate an F-measure, in which a high F-measure classifier model is biased towards all actual and predicted positives.\n",
    "\n",
    "`F1 = 2TP/(2TP+FN+FP)`"
   ]
  },
  {
   "cell_type": "code",
   "execution_count": null,
   "metadata": {
    "collapsed": false
   },
   "outputs": [],
   "source": [
    "f1_metric = 2*CM.matrix[1]/(2*CM.matrix[1]+CM.matrix[1,2]+CM.matrix[2,1])\n",
    "f1_metric"
   ]
  },
  {
   "cell_type": "markdown",
   "metadata": {},
   "source": [
    "## Homework Exercise\n",
    "Remember the concept of feature engineering"
   ]
  },
  {
   "cell_type": "markdown",
   "metadata": {},
   "source": [
    "### Feature engineering\n",
    "The term Feature Engineering refers to the creation of value-added data from your data sources that will be fed into your machine learning algorithm for training of your predictive model.\n",
    "\n",
    "#### Q1. How can you add the ChildType Feature from Lesson 2 to train your predictive random forest model?\n"
   ]
  },
  {
   "cell_type": "code",
   "execution_count": null,
   "metadata": {
    "collapsed": false
   },
   "outputs": [],
   "source": [
    "\n",
    "\n",
    "\n",
    "\n",
    "\n",
    "\n",
    "\n",
    "\n",
    "\n",
    "\n",
    "\n"
   ]
  },
  {
   "cell_type": "markdown",
   "metadata": {},
   "source": [
    "#### Q2. Does this feature improve the accuracy of your predictive model when applied to your test data?"
   ]
  },
  {
   "cell_type": "code",
   "execution_count": null,
   "metadata": {
    "collapsed": false
   },
   "outputs": [],
   "source": [
    "\n",
    "\n",
    "\n",
    "\n",
    "\n",
    "\n",
    "\n",
    "\n",
    "\n",
    "\n"
   ]
  },
  {
   "cell_type": "markdown",
   "metadata": {},
   "source": []
  }
 ],
 "metadata": {
  "kernelspec": {
   "display_name": "Julia 0.5.0",
   "language": "julia",
   "name": "julia-0.5"
  },
  "language_info": {
   "file_extension": ".jl",
   "mimetype": "application/julia",
   "name": "julia",
   "version": "0.5.0"
  }
 },
 "nbformat": 4,
 "nbformat_minor": 1
}
