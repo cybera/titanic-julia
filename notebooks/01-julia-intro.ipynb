{
 "cells": [
  {
   "cell_type": "markdown",
   "metadata": {},
   "source": [
    "# Basics"
   ]
  },
  {
   "cell_type": "markdown",
   "metadata": {},
   "source": [
    "Hello world"
   ]
  },
  {
   "cell_type": "code",
   "execution_count": null,
   "metadata": {
    "collapsed": false
   },
   "outputs": [],
   "source": [
    "println(\"Hello world\")"
   ]
  },
  {
   "cell_type": "markdown",
   "metadata": {},
   "source": [
    "String interpolation"
   ]
  },
  {
   "cell_type": "code",
   "execution_count": null,
   "metadata": {
    "collapsed": false
   },
   "outputs": [],
   "source": [
    "x = \"universe\"\n",
    "println(\"Hello $x\")\n",
    "println(\"35 + 7 = $(35 + 7)\")"
   ]
  },
  {
   "cell_type": "markdown",
   "metadata": {},
   "source": [
    "Loops"
   ]
  },
  {
   "cell_type": "code",
   "execution_count": null,
   "metadata": {
    "collapsed": false
   },
   "outputs": [],
   "source": [
    "for i = 1:10\n",
    "    println(\"i: $i\")\n",
    "end"
   ]
  },
  {
   "cell_type": "markdown",
   "metadata": {},
   "source": [
    "Nested loops"
   ]
  },
  {
   "cell_type": "code",
   "execution_count": null,
   "metadata": {
    "collapsed": false
   },
   "outputs": [],
   "source": [
    "for i = 1:2, j = 1:2\n",
    "    println(\"($i, $j)\")\n",
    "end"
   ]
  },
  {
   "cell_type": "markdown",
   "metadata": {},
   "source": [
    "while loops"
   ]
  },
  {
   "cell_type": "code",
   "execution_count": null,
   "metadata": {
    "collapsed": false
   },
   "outputs": [],
   "source": [
    "i = 1;\n",
    "while i <= 5\n",
    "    println(\"i: $i\")\n",
    "    i += 1\n",
    "end"
   ]
  },
  {
   "cell_type": "markdown",
   "metadata": {},
   "source": [
    "# Functions and types"
   ]
  },
  {
   "cell_type": "markdown",
   "metadata": {},
   "source": [
    "Creating a function"
   ]
  },
  {
   "cell_type": "code",
   "execution_count": null,
   "metadata": {
    "collapsed": false
   },
   "outputs": [],
   "source": [
    "function foo(x)\n",
    "    println(x)\n",
    "end"
   ]
  },
  {
   "cell_type": "markdown",
   "metadata": {},
   "source": [
    "Calling a function"
   ]
  },
  {
   "cell_type": "code",
   "execution_count": null,
   "metadata": {
    "collapsed": false
   },
   "outputs": [],
   "source": [
    "foo(\"bar\")\n",
    "foo('a':'f')\n",
    "foo(1:10)\n",
    "foo(5)"
   ]
  },
  {
   "cell_type": "markdown",
   "metadata": {},
   "source": [
    "Traditional multiple type handling"
   ]
  },
  {
   "cell_type": "code",
   "execution_count": null,
   "metadata": {
    "collapsed": false
   },
   "outputs": [],
   "source": [
    "function foo_oldschool(x)\n",
    "    if(typeof(x) <: AbstractString)\n",
    "        println(x)\n",
    "    elseif(typeof(x) <: Range)\n",
    "        println(join(x,\",\"))\n",
    "    elseif(typeof(x) <: Real)\n",
    "        println(x + 42)\n",
    "    end\n",
    "end\n",
    "\n",
    "foo_oldschool(\"bar\")\n",
    "foo_oldschool('a':'f')\n",
    "foo_oldschool(1:10)\n",
    "foo_oldschool(5)"
   ]
  },
  {
   "cell_type": "markdown",
   "metadata": {},
   "source": [
    "Using Julia's multi-dispatch"
   ]
  },
  {
   "cell_type": "code",
   "execution_count": null,
   "metadata": {
    "collapsed": false
   },
   "outputs": [],
   "source": [
    "foo(x::Range) = foo(join(x,\",\"))\n",
    "foo(x::Real) = println(42 + x)\n",
    "\n",
    "foo(\"bar\")\n",
    "foo('a':'f')\n",
    "foo(1:10)\n",
    "foo(5)"
   ]
  },
  {
   "cell_type": "markdown",
   "metadata": {},
   "source": [
    "Note that:\n",
    "\n",
    "```\n",
    "f(x) = g(x)\n",
    "```\n",
    "\n",
    "is equivalent to:\n",
    "\n",
    "```\n",
    "function f(x)\n",
    "    g(x)\n",
    "end\n",
    "```"
   ]
  },
  {
   "cell_type": "markdown",
   "metadata": {},
   "source": [
    "Let's say that, when x is a range of numbers (as opposed to characters or anything else), we want to output the `mean` instead of the expanded list..."
   ]
  },
  {
   "cell_type": "code",
   "execution_count": null,
   "metadata": {
    "collapsed": false
   },
   "outputs": [],
   "source": [
    "foo{T<:Real}(x::Range{T}) = foo(mean(x))\n",
    "\n",
    "foo(\"bar\")\n",
    "foo('a':'f')\n",
    "foo(1:10)\n",
    "foo(5)"
   ]
  },
  {
   "cell_type": "markdown",
   "metadata": {},
   "source": [
    "Neat, but is it useful? Consider scalar vs vector and matrix operations."
   ]
  },
  {
   "cell_type": "code",
   "execution_count": null,
   "metadata": {
    "collapsed": false
   },
   "outputs": [],
   "source": [
    "a = 5\n",
    "b = 2\n",
    "\n",
    "display(a * b)\n",
    "\n",
    "a = [4\n",
    "     5]\n",
    "\n",
    "display(a * b)\n",
    "\n",
    "A = [2 4\n",
    "     5 1]\n",
    "\n",
    "display(A * b)\n",
    "\n",
    "b = [4\n",
    "     5]\n",
    "\n",
    "display(A * b)"
   ]
  },
  {
   "cell_type": "markdown",
   "metadata": {},
   "source": [
    "# Functions as arguments"
   ]
  },
  {
   "cell_type": "markdown",
   "metadata": {},
   "source": [
    "Say we want to transform an array of strings representing numbers into actual numbers. We *could* use a loop to do that. Or we could use the *map* function."
   ]
  },
  {
   "cell_type": "code",
   "execution_count": null,
   "metadata": {
    "collapsed": false
   },
   "outputs": [],
   "source": [
    "num_strings = [\"1\", \"2\", \"3\", \"4\", \"5\"]\n",
    "\n",
    "map(num_strings) do x\n",
    "    parse(Int, x)\n",
    "end"
   ]
  },
  {
   "cell_type": "markdown",
   "metadata": {},
   "source": [
    "The above uses a \"block\" style of anonymous function creation. It is equivalent to:"
   ]
  },
  {
   "cell_type": "code",
   "execution_count": null,
   "metadata": {
    "collapsed": false
   },
   "outputs": [],
   "source": [
    "map(x -> parse(Int, x), num_strings)"
   ]
  },
  {
   "cell_type": "markdown",
   "metadata": {},
   "source": [
    "You can use regular functions in the same way:"
   ]
  },
  {
   "cell_type": "code",
   "execution_count": null,
   "metadata": {
    "collapsed": false
   },
   "outputs": [],
   "source": [
    "toint(x) = parse(Int, x)\n",
    "\n",
    "map(toint, num_strings)"
   ]
  },
  {
   "cell_type": "markdown",
   "metadata": {},
   "source": [
    "# DataFrames"
   ]
  },
  {
   "cell_type": "markdown",
   "metadata": {},
   "source": [
    "Loading the module"
   ]
  },
  {
   "cell_type": "code",
   "execution_count": null,
   "metadata": {
    "collapsed": true
   },
   "outputs": [],
   "source": [
    "using DataFrames"
   ]
  },
  {
   "cell_type": "markdown",
   "metadata": {},
   "source": [
    "Creating an empty DataFrame"
   ]
  },
  {
   "cell_type": "code",
   "execution_count": null,
   "metadata": {
    "collapsed": false
   },
   "outputs": [],
   "source": [
    "df = DataFrame()"
   ]
  },
  {
   "cell_type": "markdown",
   "metadata": {},
   "source": [
    "Creating a DataFrame with existing arrays of data (must be the same length)"
   ]
  },
  {
   "cell_type": "code",
   "execution_count": null,
   "metadata": {
    "collapsed": false
   },
   "outputs": [],
   "source": [
    "a = [4, 2, 6, 1]\n",
    "b = [1, 6, 3, 5]\n",
    "df = DataFrame(col1 = a, col2 = b)"
   ]
  },
  {
   "cell_type": "markdown",
   "metadata": {},
   "source": [
    "Adding a column to an existing DataFrame"
   ]
  },
  {
   "cell_type": "code",
   "execution_count": null,
   "metadata": {
    "collapsed": false
   },
   "outputs": [],
   "source": [
    "df[:col3] = [\"a\", \"b\", \"a\", \"b\"]\n",
    "df"
   ]
  },
  {
   "cell_type": "markdown",
   "metadata": {},
   "source": [
    "Group by a column: we'll group by values in col3 and show the mean of col2 for each of these groupings"
   ]
  },
  {
   "cell_type": "code",
   "execution_count": null,
   "metadata": {
    "collapsed": false
   },
   "outputs": [],
   "source": [
    "by(df, :col3, frame -> mean(frame[:col2]))"
   ]
  },
  {
   "cell_type": "markdown",
   "metadata": {},
   "source": [
    "Do the same thing with a \"block\" style call"
   ]
  },
  {
   "cell_type": "code",
   "execution_count": null,
   "metadata": {
    "collapsed": false
   },
   "outputs": [],
   "source": [
    "by(df, :col3) do frame\n",
    "  mean(frame[:col2])\n",
    "end"
   ]
  },
  {
   "cell_type": "markdown",
   "metadata": {},
   "source": [
    "Notice that in these cases, we get an arbitrary column name, **x1**, for the average of **col2** values. We can compute averages for multiple columns at once *and* get more appropriate names for those columns by returning a DataFrame of values instead of just one value."
   ]
  },
  {
   "cell_type": "code",
   "execution_count": null,
   "metadata": {
    "collapsed": false
   },
   "outputs": [],
   "source": [
    "by(df, :col3) do frame\n",
    "    DataFrame(col1avg=mean(frame[:col1]),\n",
    "              col2avg=mean(frame[:col2]))\n",
    "end"
   ]
  },
  {
   "cell_type": "markdown",
   "metadata": {},
   "source": [
    "As with the `map` function, we can create functions to do the groupings and pass them in. Here, we'll also put them inside a module."
   ]
  },
  {
   "cell_type": "code",
   "execution_count": null,
   "metadata": {
    "collapsed": false
   },
   "outputs": [],
   "source": [
    "module Groupings\n",
    "\n",
    "using DataFrames\n",
    "\n",
    "function means(f)\n",
    "    DataFrame(col1avg=mean(f[:col1]),\n",
    "              col2avg=mean(f[:col2]))\n",
    "end\n",
    "\n",
    "end\n",
    "\n",
    "by(Groupings.means, df, :col3)"
   ]
  },
  {
   "cell_type": "markdown",
   "metadata": {},
   "source": [
    "Note that the above function assumes particular column names and types. However, it can be used to do similar groupings even over other columns. For example:"
   ]
  },
  {
   "cell_type": "code",
   "execution_count": null,
   "metadata": {
    "collapsed": false
   },
   "outputs": [],
   "source": [
    "df[:col4] = [\"x\", \"x\", \"y\", \"x\"]\n",
    "\n",
    "by(Groupings.means, df, :col4)"
   ]
  },
  {
   "cell_type": "markdown",
   "metadata": {},
   "source": [
    "# Exercises"
   ]
  },
  {
   "cell_type": "markdown",
   "metadata": {},
   "source": [
    "**1.** Create a function that returns a DataFrame with the median of col1 and the sum of col2, given a DataFrame with those columns as a parameter."
   ]
  },
  {
   "cell_type": "code",
   "execution_count": null,
   "metadata": {
    "collapsed": false
   },
   "outputs": [],
   "source": []
  },
  {
   "cell_type": "markdown",
   "metadata": {},
   "source": [
    "**2.** Use your function above to get the median and sum values of subgroups of col3."
   ]
  },
  {
   "cell_type": "code",
   "execution_count": null,
   "metadata": {
    "collapsed": false
   },
   "outputs": [],
   "source": []
  },
  {
   "cell_type": "markdown",
   "metadata": {
    "collapsed": false
   },
   "source": [
    "**3.** Create a new definition of the `*` operator that will turn `\"a\" * 5` into `aaaaa`.\n",
    "\n",
    "*Hint*: What happens when you type `\"a\" * 5` now? Does the error message give any clues about what your method should look like?"
   ]
  },
  {
   "cell_type": "code",
   "execution_count": null,
   "metadata": {
    "collapsed": false
   },
   "outputs": [],
   "source": [
    "import Base: *\n",
    "\n",
    "# Define your new function here:\n",
    "\n",
    "\n",
    "\n",
    "\n",
    "# The following should produce \"aaaaa\"\n",
    "\n",
    "\"a\" * 5"
   ]
  }
 ],
 "metadata": {
  "kernelspec": {
   "display_name": "Julia 0.5.0",
   "language": "julia",
   "name": "julia-0.5"
  },
  "language_info": {
   "file_extension": ".jl",
   "mimetype": "application/julia",
   "name": "julia",
   "version": "0.5.0"
  }
 },
 "nbformat": 4,
 "nbformat_minor": 1
}
